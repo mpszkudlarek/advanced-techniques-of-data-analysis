{
 "cells": [
  {
   "cell_type": "code",
   "outputs": [],
   "source": [
    "import pandas as pd\n",
    "import os\n",
    "import arff"
   ],
   "metadata": {
    "collapsed": false,
    "ExecuteTime": {
     "end_time": "2024-03-30T18:42:17.959083Z",
     "start_time": "2024-03-30T18:42:17.956407Z"
    }
   },
   "id": "33a41875914a9016",
   "execution_count": 60
  },
  {
   "cell_type": "markdown",
   "source": [
    "# Wczytanie danych"
   ],
   "metadata": {
    "collapsed": false
   },
   "id": "c4e15be69ac0ae3b"
  },
  {
   "cell_type": "code",
   "outputs": [
    {
     "data": {
      "text/plain": "  status pozyczki  kwota wnioskowana  kwota otrzymana PESEL klienta  \\\n0     splacona_cz              800.0            800.0   490702xxx4x   \n1     splacona_cz              300.0            300.0   480124xxx2x   \n2     splacona_cz              400.0            400.0   460902xxx5x   \n3     splacona_cz              400.0            350.0   330729xxx3x   \n4     splacona_cz              200.0            200.0   741203xxx8x   \n\n   rodzaj źródła dochodu  miesieczny dochod netto  ktore rolowanie  \\\n0                     13                  3700.00                3   \n1                     13                  1100.00                0   \n2                     16                  1473.04                0   \n3                     13                  1519.00                0   \n4                     12                   599.03                2   \n\n          data decyzji data początkowa dochodu data koncowa dochodu  \\\n0  2011-08-31 16:26:31              2009-07-13           0000-00-00   \n1  2011-08-31 17:37:10              2003-01-01           0000-00-00   \n2  2011-09-01 09:15:50              1998-01-01           0000-00-00   \n3  2011-09-01 09:32:40              1990-08-16           0000-00-00   \n4  2011-09-01 09:51:44              2010-03-01           2011-09-30   \n\n  planowany termin splaty rzeczywisty termin spłaty  \n0              2011-09-30       2011-09-30 00:00:00  \n1              2011-09-30       2011-09-30 00:00:00  \n2              2011-10-01       2011-09-30 00:00:00  \n3              2011-10-01       2011-10-01 00:00:00  \n4              2011-10-01       2011-10-03 00:00:00  ",
      "text/html": "<div>\n<style scoped>\n    .dataframe tbody tr th:only-of-type {\n        vertical-align: middle;\n    }\n\n    .dataframe tbody tr th {\n        vertical-align: top;\n    }\n\n    .dataframe thead th {\n        text-align: right;\n    }\n</style>\n<table border=\"1\" class=\"dataframe\">\n  <thead>\n    <tr style=\"text-align: right;\">\n      <th></th>\n      <th>status pozyczki</th>\n      <th>kwota wnioskowana</th>\n      <th>kwota otrzymana</th>\n      <th>PESEL klienta</th>\n      <th>rodzaj źródła dochodu</th>\n      <th>miesieczny dochod netto</th>\n      <th>ktore rolowanie</th>\n      <th>data decyzji</th>\n      <th>data początkowa dochodu</th>\n      <th>data koncowa dochodu</th>\n      <th>planowany termin splaty</th>\n      <th>rzeczywisty termin spłaty</th>\n    </tr>\n  </thead>\n  <tbody>\n    <tr>\n      <th>0</th>\n      <td>splacona_cz</td>\n      <td>800.0</td>\n      <td>800.0</td>\n      <td>490702xxx4x</td>\n      <td>13</td>\n      <td>3700.00</td>\n      <td>3</td>\n      <td>2011-08-31 16:26:31</td>\n      <td>2009-07-13</td>\n      <td>0000-00-00</td>\n      <td>2011-09-30</td>\n      <td>2011-09-30 00:00:00</td>\n    </tr>\n    <tr>\n      <th>1</th>\n      <td>splacona_cz</td>\n      <td>300.0</td>\n      <td>300.0</td>\n      <td>480124xxx2x</td>\n      <td>13</td>\n      <td>1100.00</td>\n      <td>0</td>\n      <td>2011-08-31 17:37:10</td>\n      <td>2003-01-01</td>\n      <td>0000-00-00</td>\n      <td>2011-09-30</td>\n      <td>2011-09-30 00:00:00</td>\n    </tr>\n    <tr>\n      <th>2</th>\n      <td>splacona_cz</td>\n      <td>400.0</td>\n      <td>400.0</td>\n      <td>460902xxx5x</td>\n      <td>16</td>\n      <td>1473.04</td>\n      <td>0</td>\n      <td>2011-09-01 09:15:50</td>\n      <td>1998-01-01</td>\n      <td>0000-00-00</td>\n      <td>2011-10-01</td>\n      <td>2011-09-30 00:00:00</td>\n    </tr>\n    <tr>\n      <th>3</th>\n      <td>splacona_cz</td>\n      <td>400.0</td>\n      <td>350.0</td>\n      <td>330729xxx3x</td>\n      <td>13</td>\n      <td>1519.00</td>\n      <td>0</td>\n      <td>2011-09-01 09:32:40</td>\n      <td>1990-08-16</td>\n      <td>0000-00-00</td>\n      <td>2011-10-01</td>\n      <td>2011-10-01 00:00:00</td>\n    </tr>\n    <tr>\n      <th>4</th>\n      <td>splacona_cz</td>\n      <td>200.0</td>\n      <td>200.0</td>\n      <td>741203xxx8x</td>\n      <td>12</td>\n      <td>599.03</td>\n      <td>2</td>\n      <td>2011-09-01 09:51:44</td>\n      <td>2010-03-01</td>\n      <td>2011-09-30</td>\n      <td>2011-10-01</td>\n      <td>2011-10-03 00:00:00</td>\n    </tr>\n  </tbody>\n</table>\n</div>"
     },
     "execution_count": 61,
     "metadata": {},
     "output_type": "execute_result"
    }
   ],
   "source": [
    "fp = 'input/254516_online.csv'\n",
    "data = pd.read_csv(fp)\n",
    "data.head()"
   ],
   "metadata": {
    "collapsed": false,
    "ExecuteTime": {
     "end_time": "2024-03-30T18:42:17.977581Z",
     "start_time": "2024-03-30T18:42:17.960101Z"
    }
   },
   "id": "8fc9ae986ddd2484",
   "execution_count": 61
  },
  {
   "cell_type": "markdown",
   "source": [
    "# Ćwiczenie 1"
   ],
   "metadata": {
    "collapsed": false
   },
   "id": "8510bae0a37de871"
  },
  {
   "cell_type": "code",
   "outputs": [
    {
     "data": {
      "text/plain": "  status pozyczki  kwota wnioskowana  kwota otrzymana  kwota kredytu\n0     splacona_cz             800.00           800.00         800.00\n1     splacona_cz             300.00           300.00         300.00\n2     splacona_cz             400.00           400.00         400.00\n3     splacona_cz             400.00           350.00         350.00\n4     splacona_cz             200.00           200.00         200.00\n5     splacona_cz             200.00           200.00         200.00\n6     splacona_cz             200.00           200.00         200.00\n7     splacona_cz             218.32           218.32         218.32\n8     splacona_cz             393.99           393.99         393.99\n9          odmowa            1000.00             0.00        1000.00",
      "text/html": "<div>\n<style scoped>\n    .dataframe tbody tr th:only-of-type {\n        vertical-align: middle;\n    }\n\n    .dataframe tbody tr th {\n        vertical-align: top;\n    }\n\n    .dataframe thead th {\n        text-align: right;\n    }\n</style>\n<table border=\"1\" class=\"dataframe\">\n  <thead>\n    <tr style=\"text-align: right;\">\n      <th></th>\n      <th>status pozyczki</th>\n      <th>kwota wnioskowana</th>\n      <th>kwota otrzymana</th>\n      <th>kwota kredytu</th>\n    </tr>\n  </thead>\n  <tbody>\n    <tr>\n      <th>0</th>\n      <td>splacona_cz</td>\n      <td>800.00</td>\n      <td>800.00</td>\n      <td>800.00</td>\n    </tr>\n    <tr>\n      <th>1</th>\n      <td>splacona_cz</td>\n      <td>300.00</td>\n      <td>300.00</td>\n      <td>300.00</td>\n    </tr>\n    <tr>\n      <th>2</th>\n      <td>splacona_cz</td>\n      <td>400.00</td>\n      <td>400.00</td>\n      <td>400.00</td>\n    </tr>\n    <tr>\n      <th>3</th>\n      <td>splacona_cz</td>\n      <td>400.00</td>\n      <td>350.00</td>\n      <td>350.00</td>\n    </tr>\n    <tr>\n      <th>4</th>\n      <td>splacona_cz</td>\n      <td>200.00</td>\n      <td>200.00</td>\n      <td>200.00</td>\n    </tr>\n    <tr>\n      <th>5</th>\n      <td>splacona_cz</td>\n      <td>200.00</td>\n      <td>200.00</td>\n      <td>200.00</td>\n    </tr>\n    <tr>\n      <th>6</th>\n      <td>splacona_cz</td>\n      <td>200.00</td>\n      <td>200.00</td>\n      <td>200.00</td>\n    </tr>\n    <tr>\n      <th>7</th>\n      <td>splacona_cz</td>\n      <td>218.32</td>\n      <td>218.32</td>\n      <td>218.32</td>\n    </tr>\n    <tr>\n      <th>8</th>\n      <td>splacona_cz</td>\n      <td>393.99</td>\n      <td>393.99</td>\n      <td>393.99</td>\n    </tr>\n    <tr>\n      <th>9</th>\n      <td>odmowa</td>\n      <td>1000.00</td>\n      <td>0.00</td>\n      <td>1000.00</td>\n    </tr>\n  </tbody>\n</table>\n</div>"
     },
     "execution_count": 62,
     "metadata": {},
     "output_type": "execute_result"
    }
   ],
   "source": [
    "data['kwota kredytu'] = data.apply(lambda row: row['kwota wnioskowana'] if row['status pozyczki'] == 'odmowa' else row['kwota otrzymana'], axis=1)\n",
    "data[['status pozyczki', 'kwota wnioskowana', 'kwota otrzymana', 'kwota kredytu']].head(10)"
   ],
   "metadata": {
    "collapsed": false,
    "ExecuteTime": {
     "end_time": "2024-03-30T18:42:18.022864Z",
     "start_time": "2024-03-30T18:42:18.000467Z"
    }
   },
   "id": "fa2e86883f1f6818",
   "execution_count": 62
  },
  {
   "cell_type": "markdown",
   "source": [
    "# Ćwiczenie 2"
   ],
   "metadata": {
    "collapsed": false
   },
   "id": "45eeea90b5b2a863"
  },
  {
   "cell_type": "code",
   "outputs": [
    {
     "name": "stdout",
     "output_type": "stream",
     "text": [
      "2001-08-20\n"
     ]
    },
    {
     "data": {
      "text/plain": "  PESEL klienta data urodzenia\n0   490702xxx4x     1949-07-02\n1   480124xxx2x     1948-01-24\n2   460902xxx5x     1946-09-02\n3   330729xxx3x     1933-07-29\n4   741203xxx8x     1974-12-03",
      "text/html": "<div>\n<style scoped>\n    .dataframe tbody tr th:only-of-type {\n        vertical-align: middle;\n    }\n\n    .dataframe tbody tr th {\n        vertical-align: top;\n    }\n\n    .dataframe thead th {\n        text-align: right;\n    }\n</style>\n<table border=\"1\" class=\"dataframe\">\n  <thead>\n    <tr style=\"text-align: right;\">\n      <th></th>\n      <th>PESEL klienta</th>\n      <th>data urodzenia</th>\n    </tr>\n  </thead>\n  <tbody>\n    <tr>\n      <th>0</th>\n      <td>490702xxx4x</td>\n      <td>1949-07-02</td>\n    </tr>\n    <tr>\n      <th>1</th>\n      <td>480124xxx2x</td>\n      <td>1948-01-24</td>\n    </tr>\n    <tr>\n      <th>2</th>\n      <td>460902xxx5x</td>\n      <td>1946-09-02</td>\n    </tr>\n    <tr>\n      <th>3</th>\n      <td>330729xxx3x</td>\n      <td>1933-07-29</td>\n    </tr>\n    <tr>\n      <th>4</th>\n      <td>741203xxx8x</td>\n      <td>1974-12-03</td>\n    </tr>\n  </tbody>\n</table>\n</div>"
     },
     "execution_count": 63,
     "metadata": {},
     "output_type": "execute_result"
    }
   ],
   "source": [
    "def calculate_birth_date(pesel):\n",
    "    year, month, day = int(pesel[:2]), int(pesel[2:4]), pesel[4:6]\n",
    "    if month > 12:\n",
    "        year += 2000\n",
    "        month -= 20\n",
    "    else:\n",
    "        year += 1900\n",
    "    month = f\"{month:02d}\"\n",
    "    return f\"{year}-{month}-{day}\"\n",
    "\n",
    "\n",
    "test_pesel = \"012820xxx5x\"\n",
    "print(calculate_birth_date(test_pesel))\n",
    "\n",
    "data['data urodzenia'] = data['PESEL klienta'].apply(calculate_birth_date)\n",
    "data[['PESEL klienta', 'data urodzenia']].head()"
   ],
   "metadata": {
    "collapsed": false,
    "ExecuteTime": {
     "end_time": "2024-03-30T18:42:18.035294Z",
     "start_time": "2024-03-30T18:42:18.024433Z"
    }
   },
   "id": "9491cf4925bc55b",
   "execution_count": 63
  },
  {
   "cell_type": "markdown",
   "source": [
    "# Ćwiczenie 3"
   ],
   "metadata": {
    "collapsed": false
   },
   "id": "6df120d62e28dcaa"
  },
  {
   "cell_type": "code",
   "outputs": [
    {
     "data": {
      "text/plain": "         data decyzji data urodzenia  wiek\n0 2011-08-31 16:26:31     1949-07-02    62\n1 2011-08-31 17:37:10     1948-01-24    63\n2 2011-09-01 09:15:50     1946-09-02    65\n3 2011-09-01 09:32:40     1933-07-29    78\n4 2011-09-01 09:51:44     1974-12-03    37",
      "text/html": "<div>\n<style scoped>\n    .dataframe tbody tr th:only-of-type {\n        vertical-align: middle;\n    }\n\n    .dataframe tbody tr th {\n        vertical-align: top;\n    }\n\n    .dataframe thead th {\n        text-align: right;\n    }\n</style>\n<table border=\"1\" class=\"dataframe\">\n  <thead>\n    <tr style=\"text-align: right;\">\n      <th></th>\n      <th>data decyzji</th>\n      <th>data urodzenia</th>\n      <th>wiek</th>\n    </tr>\n  </thead>\n  <tbody>\n    <tr>\n      <th>0</th>\n      <td>2011-08-31 16:26:31</td>\n      <td>1949-07-02</td>\n      <td>62</td>\n    </tr>\n    <tr>\n      <th>1</th>\n      <td>2011-08-31 17:37:10</td>\n      <td>1948-01-24</td>\n      <td>63</td>\n    </tr>\n    <tr>\n      <th>2</th>\n      <td>2011-09-01 09:15:50</td>\n      <td>1946-09-02</td>\n      <td>65</td>\n    </tr>\n    <tr>\n      <th>3</th>\n      <td>2011-09-01 09:32:40</td>\n      <td>1933-07-29</td>\n      <td>78</td>\n    </tr>\n    <tr>\n      <th>4</th>\n      <td>2011-09-01 09:51:44</td>\n      <td>1974-12-03</td>\n      <td>37</td>\n    </tr>\n  </tbody>\n</table>\n</div>"
     },
     "execution_count": 64,
     "metadata": {},
     "output_type": "execute_result"
    }
   ],
   "source": [
    "data['data decyzji'] = pd.to_datetime(data['data decyzji'])\n",
    "data['data urodzenia'] = pd.to_datetime(data['data urodzenia'])\n",
    "\n",
    "data['wiek'] = data['data decyzji'].dt.year - data['data urodzenia'].dt.year\n",
    "data[['data decyzji', 'data urodzenia', 'wiek']].head()"
   ],
   "metadata": {
    "collapsed": false,
    "ExecuteTime": {
     "end_time": "2024-03-30T18:42:18.048430Z",
     "start_time": "2024-03-30T18:42:18.036382Z"
    }
   },
   "id": "a36c4db3799cf777",
   "execution_count": 64
  },
  {
   "cell_type": "markdown",
   "source": [],
   "metadata": {
    "collapsed": false
   },
   "id": "ed258ba8e249a0fc"
  },
  {
   "cell_type": "markdown",
   "source": [
    "# Ćwiczenie 4"
   ],
   "metadata": {
    "collapsed": false
   },
   "id": "9bb2f7dca56b921c"
  },
  {
   "cell_type": "code",
   "outputs": [
    {
     "data": {
      "text/plain": "  PESEL klienta       płeć\n0   490702xxx4x    kobieta\n1   480124xxx2x    kobieta\n2   460902xxx5x  mężczyzna\n3   330729xxx3x  mężczyzna\n4   741203xxx8x    kobieta",
      "text/html": "<div>\n<style scoped>\n    .dataframe tbody tr th:only-of-type {\n        vertical-align: middle;\n    }\n\n    .dataframe tbody tr th {\n        vertical-align: top;\n    }\n\n    .dataframe thead th {\n        text-align: right;\n    }\n</style>\n<table border=\"1\" class=\"dataframe\">\n  <thead>\n    <tr style=\"text-align: right;\">\n      <th></th>\n      <th>PESEL klienta</th>\n      <th>płeć</th>\n    </tr>\n  </thead>\n  <tbody>\n    <tr>\n      <th>0</th>\n      <td>490702xxx4x</td>\n      <td>kobieta</td>\n    </tr>\n    <tr>\n      <th>1</th>\n      <td>480124xxx2x</td>\n      <td>kobieta</td>\n    </tr>\n    <tr>\n      <th>2</th>\n      <td>460902xxx5x</td>\n      <td>mężczyzna</td>\n    </tr>\n    <tr>\n      <th>3</th>\n      <td>330729xxx3x</td>\n      <td>mężczyzna</td>\n    </tr>\n    <tr>\n      <th>4</th>\n      <td>741203xxx8x</td>\n      <td>kobieta</td>\n    </tr>\n  </tbody>\n</table>\n</div>"
     },
     "execution_count": 65,
     "metadata": {},
     "output_type": "execute_result"
    }
   ],
   "source": [
    "data['płeć'] = data['PESEL klienta'].apply(lambda x: 'kobieta' if int(x[9]) % 2 == 0 else 'mężczyzna')\n",
    "data[['PESEL klienta', 'płeć']].head()"
   ],
   "metadata": {
    "collapsed": false,
    "ExecuteTime": {
     "end_time": "2024-03-30T18:42:18.057379Z",
     "start_time": "2024-03-30T18:42:18.049439Z"
    }
   },
   "id": "7d20ac7b78950209",
   "execution_count": 65
  },
  {
   "cell_type": "markdown",
   "source": [
    "# Ćwiczenie 5"
   ],
   "metadata": {
    "collapsed": false
   },
   "id": "332fb8f66061cb4a"
  },
  {
   "cell_type": "code",
   "outputs": [
    {
     "data": {
      "text/plain": "         data decyzji data początkowa dochodu  okres w jakim pobierał dochód\n0 2011-08-31 16:26:31              2009-07-13                             25\n1 2011-08-31 17:37:10              2003-01-01                            103\n2 2011-09-01 09:15:50              1998-01-01                            164\n3 2011-09-01 09:32:40              1990-08-16                            253\n4 2011-09-01 09:51:44              2010-03-01                             18",
      "text/html": "<div>\n<style scoped>\n    .dataframe tbody tr th:only-of-type {\n        vertical-align: middle;\n    }\n\n    .dataframe tbody tr th {\n        vertical-align: top;\n    }\n\n    .dataframe thead th {\n        text-align: right;\n    }\n</style>\n<table border=\"1\" class=\"dataframe\">\n  <thead>\n    <tr style=\"text-align: right;\">\n      <th></th>\n      <th>data decyzji</th>\n      <th>data początkowa dochodu</th>\n      <th>okres w jakim pobierał dochód</th>\n    </tr>\n  </thead>\n  <tbody>\n    <tr>\n      <th>0</th>\n      <td>2011-08-31 16:26:31</td>\n      <td>2009-07-13</td>\n      <td>25</td>\n    </tr>\n    <tr>\n      <th>1</th>\n      <td>2011-08-31 17:37:10</td>\n      <td>2003-01-01</td>\n      <td>103</td>\n    </tr>\n    <tr>\n      <th>2</th>\n      <td>2011-09-01 09:15:50</td>\n      <td>1998-01-01</td>\n      <td>164</td>\n    </tr>\n    <tr>\n      <th>3</th>\n      <td>2011-09-01 09:32:40</td>\n      <td>1990-08-16</td>\n      <td>253</td>\n    </tr>\n    <tr>\n      <th>4</th>\n      <td>2011-09-01 09:51:44</td>\n      <td>2010-03-01</td>\n      <td>18</td>\n    </tr>\n  </tbody>\n</table>\n</div>"
     },
     "execution_count": 66,
     "metadata": {},
     "output_type": "execute_result"
    }
   ],
   "source": [
    "data['data początkowa dochodu'] = pd.to_datetime(data['data początkowa dochodu'])\n",
    "data['okres w jakim pobierał dochód'] = data.apply(lambda row:\n",
    "                                                   (row['data decyzji'].year - row['data początkowa dochodu'].year) * 12 +\n",
    "                                                   (row['data decyzji'].month - row['data początkowa dochodu'].month), axis=1)\n",
    "\n",
    "data[['data decyzji', 'data początkowa dochodu', 'okres w jakim pobierał dochód']].head()"
   ],
   "metadata": {
    "collapsed": false,
    "ExecuteTime": {
     "end_time": "2024-03-30T18:42:18.089828Z",
     "start_time": "2024-03-30T18:42:18.058446Z"
    }
   },
   "id": "8379e415a3b093b8",
   "execution_count": 66
  },
  {
   "cell_type": "markdown",
   "source": [
    "# Ćwiczenie 6"
   ],
   "metadata": {
    "collapsed": false
   },
   "id": "ae0cda1cdbefc7d6"
  },
  {
   "cell_type": "code",
   "outputs": [
    {
     "data": {
      "text/plain": "  data początkowa dochodu data koncowa dochodu        data decyzji  \\\n0              2009-07-13           0000-00-00 2011-08-31 16:26:31   \n1              2003-01-01           0000-00-00 2011-08-31 17:37:10   \n2              1998-01-01           0000-00-00 2011-09-01 09:15:50   \n3              1990-08-16           0000-00-00 2011-09-01 09:32:40   \n4              2010-03-01           2011-09-30 2011-09-01 09:51:44   \n\n   okres w jakim będzie pobierał dochód  \n0                                    48  \n1                                    48  \n2                                    48  \n3                                    48  \n4                                    18  ",
      "text/html": "<div>\n<style scoped>\n    .dataframe tbody tr th:only-of-type {\n        vertical-align: middle;\n    }\n\n    .dataframe tbody tr th {\n        vertical-align: top;\n    }\n\n    .dataframe thead th {\n        text-align: right;\n    }\n</style>\n<table border=\"1\" class=\"dataframe\">\n  <thead>\n    <tr style=\"text-align: right;\">\n      <th></th>\n      <th>data początkowa dochodu</th>\n      <th>data koncowa dochodu</th>\n      <th>data decyzji</th>\n      <th>okres w jakim będzie pobierał dochód</th>\n    </tr>\n  </thead>\n  <tbody>\n    <tr>\n      <th>0</th>\n      <td>2009-07-13</td>\n      <td>0000-00-00</td>\n      <td>2011-08-31 16:26:31</td>\n      <td>48</td>\n    </tr>\n    <tr>\n      <th>1</th>\n      <td>2003-01-01</td>\n      <td>0000-00-00</td>\n      <td>2011-08-31 17:37:10</td>\n      <td>48</td>\n    </tr>\n    <tr>\n      <th>2</th>\n      <td>1998-01-01</td>\n      <td>0000-00-00</td>\n      <td>2011-09-01 09:15:50</td>\n      <td>48</td>\n    </tr>\n    <tr>\n      <th>3</th>\n      <td>1990-08-16</td>\n      <td>0000-00-00</td>\n      <td>2011-09-01 09:32:40</td>\n      <td>48</td>\n    </tr>\n    <tr>\n      <th>4</th>\n      <td>2010-03-01</td>\n      <td>2011-09-30</td>\n      <td>2011-09-01 09:51:44</td>\n      <td>18</td>\n    </tr>\n  </tbody>\n</table>\n</div>"
     },
     "execution_count": 67,
     "metadata": {},
     "output_type": "execute_result"
    }
   ],
   "source": [
    "data['data początkowa dochodu dt'] = pd.to_datetime(data['data początkowa dochodu'], format='%Y-%m-%d', errors='coerce')\n",
    "data['data koncowa dochodu dt'] = pd.to_datetime(data['data koncowa dochodu'], format='%Y-%m-%d', errors='coerce')\n",
    "data['data decyzji dt'] = pd.to_datetime(data['data decyzji'], format='%Y-%m-%d %H:%M:%S', errors='coerce')\n",
    "\n",
    "\n",
    "def full_months_between(d1, d2):\n",
    "    if d1 is pd.NaT or d2 is pd.NaT:\n",
    "        return None\n",
    "    year_diff = d2.year - d1.year\n",
    "    month_diff = d2.month - d1.month\n",
    "    return year_diff * 12 + month_diff\n",
    "\n",
    "\n",
    "data['okres w jakim będzie pobierał dochód'] = data.apply(\n",
    "    lambda row: 48 if pd.isna(row['data koncowa dochodu dt'])\n",
    "    else full_months_between(row['data początkowa dochodu dt'], row['data koncowa dochodu dt']),\n",
    "    axis=1\n",
    ")\n",
    "\n",
    "data['okres w jakim będzie pobierał dochód'] = data['okres w jakim będzie pobierał dochód'].clip(upper=48)\n",
    "\n",
    "data[['data początkowa dochodu', 'data koncowa dochodu', 'data decyzji', 'okres w jakim będzie pobierał dochód']].head()"
   ],
   "metadata": {
    "collapsed": false,
    "ExecuteTime": {
     "end_time": "2024-03-30T18:42:18.122545Z",
     "start_time": "2024-03-30T18:42:18.090893Z"
    }
   },
   "id": "e6cb44ad3bbc9d32",
   "execution_count": 67
  },
  {
   "cell_type": "markdown",
   "source": [
    "# Ćwiczenie 7"
   ],
   "metadata": {
    "collapsed": false
   },
   "id": "f6f9bfbac81eb27a"
  },
  {
   "cell_type": "code",
   "outputs": [
    {
     "data": {
      "text/plain": "   planowany termin splaty rzeczywisty termin spłaty  opóźnienie spłaty\n0               2011-09-30       2011-09-30 00:00:00                  0\n1               2011-09-30       2011-09-30 00:00:00                  0\n2               2011-10-01       2011-09-30 00:00:00                  0\n3               2011-10-01       2011-10-01 00:00:00                  0\n4               2011-10-01       2011-10-03 00:00:00                  2\n..                     ...                       ...                ...\n95              2011-10-10       2011-10-10 00:00:00                  0\n96              2011-10-10       2011-10-11 00:00:00                  1\n97              2011-10-10       2011-10-10 00:00:00                  0\n98              2011-10-10       2011-10-14 00:00:00                  4\n99              2011-10-10       2011-10-10 00:00:00                  0\n\n[100 rows x 3 columns]",
      "text/html": "<div>\n<style scoped>\n    .dataframe tbody tr th:only-of-type {\n        vertical-align: middle;\n    }\n\n    .dataframe tbody tr th {\n        vertical-align: top;\n    }\n\n    .dataframe thead th {\n        text-align: right;\n    }\n</style>\n<table border=\"1\" class=\"dataframe\">\n  <thead>\n    <tr style=\"text-align: right;\">\n      <th></th>\n      <th>planowany termin splaty</th>\n      <th>rzeczywisty termin spłaty</th>\n      <th>opóźnienie spłaty</th>\n    </tr>\n  </thead>\n  <tbody>\n    <tr>\n      <th>0</th>\n      <td>2011-09-30</td>\n      <td>2011-09-30 00:00:00</td>\n      <td>0</td>\n    </tr>\n    <tr>\n      <th>1</th>\n      <td>2011-09-30</td>\n      <td>2011-09-30 00:00:00</td>\n      <td>0</td>\n    </tr>\n    <tr>\n      <th>2</th>\n      <td>2011-10-01</td>\n      <td>2011-09-30 00:00:00</td>\n      <td>0</td>\n    </tr>\n    <tr>\n      <th>3</th>\n      <td>2011-10-01</td>\n      <td>2011-10-01 00:00:00</td>\n      <td>0</td>\n    </tr>\n    <tr>\n      <th>4</th>\n      <td>2011-10-01</td>\n      <td>2011-10-03 00:00:00</td>\n      <td>2</td>\n    </tr>\n    <tr>\n      <th>...</th>\n      <td>...</td>\n      <td>...</td>\n      <td>...</td>\n    </tr>\n    <tr>\n      <th>95</th>\n      <td>2011-10-10</td>\n      <td>2011-10-10 00:00:00</td>\n      <td>0</td>\n    </tr>\n    <tr>\n      <th>96</th>\n      <td>2011-10-10</td>\n      <td>2011-10-11 00:00:00</td>\n      <td>1</td>\n    </tr>\n    <tr>\n      <th>97</th>\n      <td>2011-10-10</td>\n      <td>2011-10-10 00:00:00</td>\n      <td>0</td>\n    </tr>\n    <tr>\n      <th>98</th>\n      <td>2011-10-10</td>\n      <td>2011-10-14 00:00:00</td>\n      <td>4</td>\n    </tr>\n    <tr>\n      <th>99</th>\n      <td>2011-10-10</td>\n      <td>2011-10-10 00:00:00</td>\n      <td>0</td>\n    </tr>\n  </tbody>\n</table>\n<p>100 rows × 3 columns</p>\n</div>"
     },
     "execution_count": 68,
     "metadata": {},
     "output_type": "execute_result"
    }
   ],
   "source": [
    "data['planowany termin spłaty dt'] = pd.to_datetime(data['planowany termin splaty'], format='%Y-%m-%d', errors='coerce')\n",
    "data['rzeczywisty termin spłaty dt'] = pd.to_datetime(data['rzeczywisty termin spłaty'], errors='coerce')\n",
    "\n",
    "dzisiejsza_data = pd.to_datetime('today').normalize()\n",
    "\n",
    "data['opóźnienie spłaty'] = data.apply(lambda row: (row['rzeczywisty termin spłaty dt'] - row['planowany termin spłaty dt']).days\n",
    "if not pd.isna(row['planowany termin spłaty dt']) and not pd.isna(row['rzeczywisty termin spłaty dt'])\n",
    "else (dzisiejsza_data - row['planowany termin spłaty dt']).days\n",
    "if pd.isna(row['rzeczywisty termin spłaty dt']) and not pd.isna(row['planowany termin spłaty dt'])\n",
    "else 0, axis=1)\n",
    "\n",
    "data['opóźnienie spłaty'] = data['opóźnienie spłaty'].clip(lower=0)\n",
    "\n",
    "data[['planowany termin splaty', 'rzeczywisty termin spłaty', 'opóźnienie spłaty']].head(100)"
   ],
   "metadata": {
    "collapsed": false,
    "ExecuteTime": {
     "end_time": "2024-03-30T18:42:18.166488Z",
     "start_time": "2024-03-30T18:42:18.123606Z"
    }
   },
   "id": "f1019151ff537856",
   "execution_count": 68
  },
  {
   "cell_type": "markdown",
   "source": [
    "# Ćwiczenie 8"
   ],
   "metadata": {
    "collapsed": false
   },
   "id": "d247ae9cbcaaa47"
  },
  {
   "cell_type": "code",
   "outputs": [],
   "source": [
    "columns_mapping = {\n",
    "    'status pozyczki': 'status pożyczki',\n",
    "    'miesieczny dochod netto': 'miesięczny dochód netto',\n",
    "    'ktore rolowanie': 'które rolowanie',\n",
    "}\n",
    "data.rename(columns=columns_mapping, inplace=True)\n",
    "\n",
    "selected_columns = [\n",
    "    'status pożyczki',\n",
    "    'kwota kredytu',\n",
    "    'wiek',\n",
    "    'płeć',\n",
    "    'rodzaj źródła dochodu',\n",
    "    'miesięczny dochód netto',\n",
    "    'które rolowanie',\n",
    "    'okres w jakim pobierał dochód',\n",
    "    'okres w jakim będzie pobierał dochód',\n",
    "    'opóźnienie spłaty'\n",
    "]\n",
    "\n",
    "output_folder_path = 'output'\n",
    "\n",
    "if not os.path.exists(output_folder_path):\n",
    "    os.makedirs(output_folder_path)\n",
    "\n",
    "# output_file_path = 'output/output.csv'\n",
    "output_file_path = 'output/output.xlsx'\n",
    "\n",
    "data_to_export = data[selected_columns]\n",
    "\n",
    "data_to_export.to_excel(output_file_path, index=False)\n",
    "# data_to_export.to_csv(output_file_path, index=False, encoding='utf-8')"
   ],
   "metadata": {
    "collapsed": false,
    "ExecuteTime": {
     "end_time": "2024-03-30T18:58:57.194910Z",
     "start_time": "2024-03-30T18:58:56.941486Z"
    }
   },
   "id": "b7cfc046335816e7",
   "execution_count": 88
  },
  {
   "cell_type": "code",
   "outputs": [],
   "source": [
    "data = pd.read_excel(output_file_path)\n",
    "\n",
    "arff_data = {\n",
    "    'attributes': [(column_name, 'NUMERIC') if data[column_name].dtype.kind in 'ifc' else (column_name, 'STRING')\n",
    "                   for column_name in data.columns],\n",
    "    'data': data.values,\n",
    "    'relation': 'relation_name',\n",
    "    'description': ''\n",
    "}\n",
    "\n",
    "with open('output/output_weka.arff', 'w', encoding='utf-8') as f:\n",
    "    arff.dump(arff_data, f)"
   ],
   "metadata": {
    "collapsed": false,
    "ExecuteTime": {
     "end_time": "2024-03-30T18:57:12.585511Z",
     "start_time": "2024-03-30T18:57:12.373183Z"
    }
   },
   "id": "f4ce0f724027892b",
   "execution_count": 86
  }
 ],
 "metadata": {
  "kernelspec": {
   "display_name": "Python 3",
   "language": "python",
   "name": "python3"
  },
  "language_info": {
   "codemirror_mode": {
    "name": "ipython",
    "version": 2
   },
   "file_extension": ".py",
   "mimetype": "text/x-python",
   "name": "python",
   "nbconvert_exporter": "python",
   "pygments_lexer": "ipython2",
   "version": "2.7.6"
  }
 },
 "nbformat": 4,
 "nbformat_minor": 5
}
