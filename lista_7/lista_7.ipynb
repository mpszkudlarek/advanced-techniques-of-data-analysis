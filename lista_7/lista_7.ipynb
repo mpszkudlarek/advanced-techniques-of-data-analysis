{
 "cells": [
  {
   "cell_type": "code",
   "outputs": [],
   "source": [
    "import pandas as pd\n",
    "import os\n"
   ],
   "metadata": {
    "collapsed": false,
    "ExecuteTime": {
     "end_time": "2024-03-29T21:03:20.492886Z",
     "start_time": "2024-03-29T21:03:20.488144Z"
    }
   },
   "id": "33a41875914a9016",
   "execution_count": 20
  },
  {
   "cell_type": "markdown",
   "source": [
    "# Wczytanie danych"
   ],
   "metadata": {
    "collapsed": false
   },
   "id": "c4e15be69ac0ae3b"
  },
  {
   "cell_type": "code",
   "outputs": [
    {
     "data": {
      "text/plain": "  status pozyczki  kwota wnioskowana  kwota otrzymana PESEL klienta  \\\n0     splacona_cz              800.0            800.0   490702xxx4x   \n1     splacona_cz              300.0            300.0   480124xxx2x   \n2     splacona_cz              400.0            400.0   460902xxx5x   \n3     splacona_cz              400.0            350.0   330729xxx3x   \n4     splacona_cz              200.0            200.0   741203xxx8x   \n\n   rodzaj źródła dochodu  miesieczny dochod netto  ktore rolowanie  \\\n0                     13                  3700.00                3   \n1                     13                  1100.00                0   \n2                     16                  1473.04                0   \n3                     13                  1519.00                0   \n4                     12                   599.03                2   \n\n          data decyzji data początkowa dochodu data koncowa dochodu  \\\n0  2011-08-31 16:26:31              2009-07-13           0000-00-00   \n1  2011-08-31 17:37:10              2003-01-01           0000-00-00   \n2  2011-09-01 09:15:50              1998-01-01           0000-00-00   \n3  2011-09-01 09:32:40              1990-08-16           0000-00-00   \n4  2011-09-01 09:51:44              2010-03-01           2011-09-30   \n\n  planowany termin splaty rzeczywisty termin spłaty  \n0              2011-09-30       2011-09-30 00:00:00  \n1              2011-09-30       2011-09-30 00:00:00  \n2              2011-10-01       2011-09-30 00:00:00  \n3              2011-10-01       2011-10-01 00:00:00  \n4              2011-10-01       2011-10-03 00:00:00  ",
      "text/html": "<div>\n<style scoped>\n    .dataframe tbody tr th:only-of-type {\n        vertical-align: middle;\n    }\n\n    .dataframe tbody tr th {\n        vertical-align: top;\n    }\n\n    .dataframe thead th {\n        text-align: right;\n    }\n</style>\n<table border=\"1\" class=\"dataframe\">\n  <thead>\n    <tr style=\"text-align: right;\">\n      <th></th>\n      <th>status pozyczki</th>\n      <th>kwota wnioskowana</th>\n      <th>kwota otrzymana</th>\n      <th>PESEL klienta</th>\n      <th>rodzaj źródła dochodu</th>\n      <th>miesieczny dochod netto</th>\n      <th>ktore rolowanie</th>\n      <th>data decyzji</th>\n      <th>data początkowa dochodu</th>\n      <th>data koncowa dochodu</th>\n      <th>planowany termin splaty</th>\n      <th>rzeczywisty termin spłaty</th>\n    </tr>\n  </thead>\n  <tbody>\n    <tr>\n      <th>0</th>\n      <td>splacona_cz</td>\n      <td>800.0</td>\n      <td>800.0</td>\n      <td>490702xxx4x</td>\n      <td>13</td>\n      <td>3700.00</td>\n      <td>3</td>\n      <td>2011-08-31 16:26:31</td>\n      <td>2009-07-13</td>\n      <td>0000-00-00</td>\n      <td>2011-09-30</td>\n      <td>2011-09-30 00:00:00</td>\n    </tr>\n    <tr>\n      <th>1</th>\n      <td>splacona_cz</td>\n      <td>300.0</td>\n      <td>300.0</td>\n      <td>480124xxx2x</td>\n      <td>13</td>\n      <td>1100.00</td>\n      <td>0</td>\n      <td>2011-08-31 17:37:10</td>\n      <td>2003-01-01</td>\n      <td>0000-00-00</td>\n      <td>2011-09-30</td>\n      <td>2011-09-30 00:00:00</td>\n    </tr>\n    <tr>\n      <th>2</th>\n      <td>splacona_cz</td>\n      <td>400.0</td>\n      <td>400.0</td>\n      <td>460902xxx5x</td>\n      <td>16</td>\n      <td>1473.04</td>\n      <td>0</td>\n      <td>2011-09-01 09:15:50</td>\n      <td>1998-01-01</td>\n      <td>0000-00-00</td>\n      <td>2011-10-01</td>\n      <td>2011-09-30 00:00:00</td>\n    </tr>\n    <tr>\n      <th>3</th>\n      <td>splacona_cz</td>\n      <td>400.0</td>\n      <td>350.0</td>\n      <td>330729xxx3x</td>\n      <td>13</td>\n      <td>1519.00</td>\n      <td>0</td>\n      <td>2011-09-01 09:32:40</td>\n      <td>1990-08-16</td>\n      <td>0000-00-00</td>\n      <td>2011-10-01</td>\n      <td>2011-10-01 00:00:00</td>\n    </tr>\n    <tr>\n      <th>4</th>\n      <td>splacona_cz</td>\n      <td>200.0</td>\n      <td>200.0</td>\n      <td>741203xxx8x</td>\n      <td>12</td>\n      <td>599.03</td>\n      <td>2</td>\n      <td>2011-09-01 09:51:44</td>\n      <td>2010-03-01</td>\n      <td>2011-09-30</td>\n      <td>2011-10-01</td>\n      <td>2011-10-03 00:00:00</td>\n    </tr>\n  </tbody>\n</table>\n</div>"
     },
     "execution_count": 18,
     "metadata": {},
     "output_type": "execute_result"
    }
   ],
   "source": [
    "fp = 'input/254516_online.csv'\n",
    "data = pd.read_csv(fp)\n",
    "data.head()"
   ],
   "metadata": {
    "collapsed": false,
    "ExecuteTime": {
     "end_time": "2024-03-29T21:02:18.466556Z",
     "start_time": "2024-03-29T21:02:18.449133Z"
    }
   },
   "id": "8fc9ae986ddd2484",
   "execution_count": 18
  },
  {
   "cell_type": "markdown",
   "source": [
    "# Ćwiczenie 1"
   ],
   "metadata": {
    "collapsed": false
   },
   "id": "8510bae0a37de871"
  },
  {
   "cell_type": "code",
   "outputs": [
    {
     "data": {
      "text/plain": "  status pozyczki  kwota wnioskowana  kwota otrzymana  kwota kredytu\n0     splacona_cz             800.00           800.00         800.00\n1     splacona_cz             300.00           300.00         300.00\n2     splacona_cz             400.00           400.00         400.00\n3     splacona_cz             400.00           350.00         350.00\n4     splacona_cz             200.00           200.00         200.00\n5     splacona_cz             200.00           200.00         200.00\n6     splacona_cz             200.00           200.00         200.00\n7     splacona_cz             218.32           218.32         218.32\n8     splacona_cz             393.99           393.99         393.99\n9          odmowa            1000.00             0.00        1000.00",
      "text/html": "<div>\n<style scoped>\n    .dataframe tbody tr th:only-of-type {\n        vertical-align: middle;\n    }\n\n    .dataframe tbody tr th {\n        vertical-align: top;\n    }\n\n    .dataframe thead th {\n        text-align: right;\n    }\n</style>\n<table border=\"1\" class=\"dataframe\">\n  <thead>\n    <tr style=\"text-align: right;\">\n      <th></th>\n      <th>status pozyczki</th>\n      <th>kwota wnioskowana</th>\n      <th>kwota otrzymana</th>\n      <th>kwota kredytu</th>\n    </tr>\n  </thead>\n  <tbody>\n    <tr>\n      <th>0</th>\n      <td>splacona_cz</td>\n      <td>800.00</td>\n      <td>800.00</td>\n      <td>800.00</td>\n    </tr>\n    <tr>\n      <th>1</th>\n      <td>splacona_cz</td>\n      <td>300.00</td>\n      <td>300.00</td>\n      <td>300.00</td>\n    </tr>\n    <tr>\n      <th>2</th>\n      <td>splacona_cz</td>\n      <td>400.00</td>\n      <td>400.00</td>\n      <td>400.00</td>\n    </tr>\n    <tr>\n      <th>3</th>\n      <td>splacona_cz</td>\n      <td>400.00</td>\n      <td>350.00</td>\n      <td>350.00</td>\n    </tr>\n    <tr>\n      <th>4</th>\n      <td>splacona_cz</td>\n      <td>200.00</td>\n      <td>200.00</td>\n      <td>200.00</td>\n    </tr>\n    <tr>\n      <th>5</th>\n      <td>splacona_cz</td>\n      <td>200.00</td>\n      <td>200.00</td>\n      <td>200.00</td>\n    </tr>\n    <tr>\n      <th>6</th>\n      <td>splacona_cz</td>\n      <td>200.00</td>\n      <td>200.00</td>\n      <td>200.00</td>\n    </tr>\n    <tr>\n      <th>7</th>\n      <td>splacona_cz</td>\n      <td>218.32</td>\n      <td>218.32</td>\n      <td>218.32</td>\n    </tr>\n    <tr>\n      <th>8</th>\n      <td>splacona_cz</td>\n      <td>393.99</td>\n      <td>393.99</td>\n      <td>393.99</td>\n    </tr>\n    <tr>\n      <th>9</th>\n      <td>odmowa</td>\n      <td>1000.00</td>\n      <td>0.00</td>\n      <td>1000.00</td>\n    </tr>\n  </tbody>\n</table>\n</div>"
     },
     "execution_count": 11,
     "metadata": {},
     "output_type": "execute_result"
    }
   ],
   "source": [
    "data['kwota kredytu'] = data.apply(lambda row: row['kwota wnioskowana'] if row['status pozyczki'] == 'odmowa' else row['kwota otrzymana'], axis=1)\n",
    "data[['status pozyczki', 'kwota wnioskowana', 'kwota otrzymana', 'kwota kredytu']].head(10)"
   ],
   "metadata": {
    "collapsed": false,
    "ExecuteTime": {
     "end_time": "2024-03-29T21:00:09.644607Z",
     "start_time": "2024-03-29T21:00:09.621290Z"
    }
   },
   "id": "fa2e86883f1f6818",
   "execution_count": 11
  },
  {
   "cell_type": "markdown",
   "source": [
    "# Ćwiczenie 2"
   ],
   "metadata": {
    "collapsed": false
   },
   "id": "45eeea90b5b2a863"
  },
  {
   "cell_type": "code",
   "outputs": [
    {
     "name": "stdout",
     "output_type": "stream",
     "text": [
      "2001-08-20\n"
     ]
    },
    {
     "data": {
      "text/plain": "  PESEL klienta data urodzenia\n0   490702xxx4x     1949-07-02\n1   480124xxx2x     1948-01-24\n2   460902xxx5x     1946-09-02\n3   330729xxx3x     1933-07-29\n4   741203xxx8x     1974-12-03",
      "text/html": "<div>\n<style scoped>\n    .dataframe tbody tr th:only-of-type {\n        vertical-align: middle;\n    }\n\n    .dataframe tbody tr th {\n        vertical-align: top;\n    }\n\n    .dataframe thead th {\n        text-align: right;\n    }\n</style>\n<table border=\"1\" class=\"dataframe\">\n  <thead>\n    <tr style=\"text-align: right;\">\n      <th></th>\n      <th>PESEL klienta</th>\n      <th>data urodzenia</th>\n    </tr>\n  </thead>\n  <tbody>\n    <tr>\n      <th>0</th>\n      <td>490702xxx4x</td>\n      <td>1949-07-02</td>\n    </tr>\n    <tr>\n      <th>1</th>\n      <td>480124xxx2x</td>\n      <td>1948-01-24</td>\n    </tr>\n    <tr>\n      <th>2</th>\n      <td>460902xxx5x</td>\n      <td>1946-09-02</td>\n    </tr>\n    <tr>\n      <th>3</th>\n      <td>330729xxx3x</td>\n      <td>1933-07-29</td>\n    </tr>\n    <tr>\n      <th>4</th>\n      <td>741203xxx8x</td>\n      <td>1974-12-03</td>\n    </tr>\n  </tbody>\n</table>\n</div>"
     },
     "execution_count": 12,
     "metadata": {},
     "output_type": "execute_result"
    }
   ],
   "source": [
    "def calculate_birth_date(pesel):\n",
    "    year, month, day = int(pesel[:2]), int(pesel[2:4]), pesel[4:6]\n",
    "    if month > 12:\n",
    "        year += 2000\n",
    "        month -= 20\n",
    "    else:\n",
    "        year += 1900\n",
    "    month = f\"{month:02d}\"\n",
    "    return f\"{year}-{month}-{day}\"\n",
    "\n",
    "\n",
    "test_pesel = \"012820xxx5x\"\n",
    "print(calculate_birth_date(test_pesel))\n",
    "\n",
    "data['data urodzenia'] = data['PESEL klienta'].apply(calculate_birth_date)\n",
    "data[['PESEL klienta', 'data urodzenia']].head()"
   ],
   "metadata": {
    "collapsed": false,
    "ExecuteTime": {
     "end_time": "2024-03-29T21:00:14.645832Z",
     "start_time": "2024-03-29T21:00:14.633242Z"
    }
   },
   "id": "9491cf4925bc55b",
   "execution_count": 12
  },
  {
   "cell_type": "markdown",
   "source": [
    "# Ćwiczenie 3"
   ],
   "metadata": {
    "collapsed": false
   },
   "id": "6df120d62e28dcaa"
  },
  {
   "cell_type": "code",
   "outputs": [
    {
     "data": {
      "text/plain": "         data decyzji data urodzenia  wiek\n0 2011-08-31 16:26:31     1949-07-02    62\n1 2011-08-31 17:37:10     1948-01-24    63\n2 2011-09-01 09:15:50     1946-09-02    65\n3 2011-09-01 09:32:40     1933-07-29    78\n4 2011-09-01 09:51:44     1974-12-03    37",
      "text/html": "<div>\n<style scoped>\n    .dataframe tbody tr th:only-of-type {\n        vertical-align: middle;\n    }\n\n    .dataframe tbody tr th {\n        vertical-align: top;\n    }\n\n    .dataframe thead th {\n        text-align: right;\n    }\n</style>\n<table border=\"1\" class=\"dataframe\">\n  <thead>\n    <tr style=\"text-align: right;\">\n      <th></th>\n      <th>data decyzji</th>\n      <th>data urodzenia</th>\n      <th>wiek</th>\n    </tr>\n  </thead>\n  <tbody>\n    <tr>\n      <th>0</th>\n      <td>2011-08-31 16:26:31</td>\n      <td>1949-07-02</td>\n      <td>62</td>\n    </tr>\n    <tr>\n      <th>1</th>\n      <td>2011-08-31 17:37:10</td>\n      <td>1948-01-24</td>\n      <td>63</td>\n    </tr>\n    <tr>\n      <th>2</th>\n      <td>2011-09-01 09:15:50</td>\n      <td>1946-09-02</td>\n      <td>65</td>\n    </tr>\n    <tr>\n      <th>3</th>\n      <td>2011-09-01 09:32:40</td>\n      <td>1933-07-29</td>\n      <td>78</td>\n    </tr>\n    <tr>\n      <th>4</th>\n      <td>2011-09-01 09:51:44</td>\n      <td>1974-12-03</td>\n      <td>37</td>\n    </tr>\n  </tbody>\n</table>\n</div>"
     },
     "execution_count": 13,
     "metadata": {},
     "output_type": "execute_result"
    }
   ],
   "source": [
    "data['data decyzji'] = pd.to_datetime(data['data decyzji'])\n",
    "data['data urodzenia'] = pd.to_datetime(data['data urodzenia'])\n",
    "\n",
    "data['wiek'] = data['data decyzji'].dt.year - data['data urodzenia'].dt.year\n",
    "data[['data decyzji', 'data urodzenia', 'wiek']].head()\n"
   ],
   "metadata": {
    "collapsed": false,
    "ExecuteTime": {
     "end_time": "2024-03-29T21:00:17.045735Z",
     "start_time": "2024-03-29T21:00:17.031140Z"
    }
   },
   "id": "a36c4db3799cf777",
   "execution_count": 13
  },
  {
   "cell_type": "markdown",
   "source": [],
   "metadata": {
    "collapsed": false
   },
   "id": "ed258ba8e249a0fc"
  },
  {
   "cell_type": "markdown",
   "source": [
    "# Ćwiczenie 4"
   ],
   "metadata": {
    "collapsed": false
   },
   "id": "9bb2f7dca56b921c"
  },
  {
   "cell_type": "code",
   "outputs": [
    {
     "data": {
      "text/plain": "  PESEL klienta       płeć\n0   490702xxx4x    kobieta\n1   480124xxx2x    kobieta\n2   460902xxx5x  mężczyzna\n3   330729xxx3x  mężczyzna\n4   741203xxx8x    kobieta",
      "text/html": "<div>\n<style scoped>\n    .dataframe tbody tr th:only-of-type {\n        vertical-align: middle;\n    }\n\n    .dataframe tbody tr th {\n        vertical-align: top;\n    }\n\n    .dataframe thead th {\n        text-align: right;\n    }\n</style>\n<table border=\"1\" class=\"dataframe\">\n  <thead>\n    <tr style=\"text-align: right;\">\n      <th></th>\n      <th>PESEL klienta</th>\n      <th>płeć</th>\n    </tr>\n  </thead>\n  <tbody>\n    <tr>\n      <th>0</th>\n      <td>490702xxx4x</td>\n      <td>kobieta</td>\n    </tr>\n    <tr>\n      <th>1</th>\n      <td>480124xxx2x</td>\n      <td>kobieta</td>\n    </tr>\n    <tr>\n      <th>2</th>\n      <td>460902xxx5x</td>\n      <td>mężczyzna</td>\n    </tr>\n    <tr>\n      <th>3</th>\n      <td>330729xxx3x</td>\n      <td>mężczyzna</td>\n    </tr>\n    <tr>\n      <th>4</th>\n      <td>741203xxx8x</td>\n      <td>kobieta</td>\n    </tr>\n  </tbody>\n</table>\n</div>"
     },
     "execution_count": 14,
     "metadata": {},
     "output_type": "execute_result"
    }
   ],
   "source": [
    "# Utworzenie kolumny 'płeć' na podstawie 10. cyfry numeru PESEL\n",
    "data['płeć'] = data['PESEL klienta'].apply(lambda x: 'kobieta' if int(x[9]) % 2 == 0 else 'mężczyzna')\n",
    "\n",
    "data[['PESEL klienta', 'płeć']].head()\n"
   ],
   "metadata": {
    "collapsed": false,
    "ExecuteTime": {
     "end_time": "2024-03-29T21:00:20.523683Z",
     "start_time": "2024-03-29T21:00:20.513285Z"
    }
   },
   "id": "7d20ac7b78950209",
   "execution_count": 14
  },
  {
   "cell_type": "markdown",
   "source": [
    "# Ćwiczenie 5"
   ],
   "metadata": {
    "collapsed": false
   },
   "id": "332fb8f66061cb4a"
  },
  {
   "cell_type": "code",
   "outputs": [
    {
     "data": {
      "text/plain": "         data decyzji data początkowa dochodu  okres w jakim pobierał dochód\n0 2011-08-31 16:26:31              2009-07-13                             25\n1 2011-08-31 17:37:10              2003-01-01                            103\n2 2011-09-01 09:15:50              1998-01-01                            164\n3 2011-09-01 09:32:40              1990-08-16                            253\n4 2011-09-01 09:51:44              2010-03-01                             18",
      "text/html": "<div>\n<style scoped>\n    .dataframe tbody tr th:only-of-type {\n        vertical-align: middle;\n    }\n\n    .dataframe tbody tr th {\n        vertical-align: top;\n    }\n\n    .dataframe thead th {\n        text-align: right;\n    }\n</style>\n<table border=\"1\" class=\"dataframe\">\n  <thead>\n    <tr style=\"text-align: right;\">\n      <th></th>\n      <th>data decyzji</th>\n      <th>data początkowa dochodu</th>\n      <th>okres w jakim pobierał dochód</th>\n    </tr>\n  </thead>\n  <tbody>\n    <tr>\n      <th>0</th>\n      <td>2011-08-31 16:26:31</td>\n      <td>2009-07-13</td>\n      <td>25</td>\n    </tr>\n    <tr>\n      <th>1</th>\n      <td>2011-08-31 17:37:10</td>\n      <td>2003-01-01</td>\n      <td>103</td>\n    </tr>\n    <tr>\n      <th>2</th>\n      <td>2011-09-01 09:15:50</td>\n      <td>1998-01-01</td>\n      <td>164</td>\n    </tr>\n    <tr>\n      <th>3</th>\n      <td>2011-09-01 09:32:40</td>\n      <td>1990-08-16</td>\n      <td>253</td>\n    </tr>\n    <tr>\n      <th>4</th>\n      <td>2011-09-01 09:51:44</td>\n      <td>2010-03-01</td>\n      <td>18</td>\n    </tr>\n  </tbody>\n</table>\n</div>"
     },
     "execution_count": 17,
     "metadata": {},
     "output_type": "execute_result"
    }
   ],
   "source": [
    "# Poprawiam nazwę kolumny i ponawiam konwersję oraz obliczenia\n",
    "data['data początkowa dochodu'] = pd.to_datetime(data['data początkowa dochodu'])\n",
    "\n",
    "# Obliczanie różnicy w miesiącach\n",
    "data['okres w jakim pobierał dochód'] = data.apply(lambda row:\n",
    "                                                   (row['data decyzji'].year - row['data początkowa dochodu'].year) * 12 +\n",
    "                                                   (row['data decyzji'].month - row['data początkowa dochodu'].month), axis=1)\n",
    "\n",
    "# Sprawdzam wyniki\n",
    "data[['data decyzji', 'data początkowa dochodu', 'okres w jakim pobierał dochód']].head()\n"
   ],
   "metadata": {
    "collapsed": false,
    "ExecuteTime": {
     "end_time": "2024-03-29T21:00:53.856018Z",
     "start_time": "2024-03-29T21:00:53.824820Z"
    }
   },
   "id": "8379e415a3b093b8",
   "execution_count": 17
  },
  {
   "cell_type": "markdown",
   "source": [
    "# Ćwiczenie 6"
   ],
   "metadata": {
    "collapsed": false
   },
   "id": "ae0cda1cdbefc7d6"
  },
  {
   "cell_type": "code",
   "outputs": [],
   "source": [],
   "metadata": {
    "collapsed": false
   },
   "id": "e6cb44ad3bbc9d32"
  },
  {
   "cell_type": "markdown",
   "source": [
    "# Zapisanie danych"
   ],
   "metadata": {
    "collapsed": false
   },
   "id": "fd6173ce9a3906cf"
  },
  {
   "cell_type": "code",
   "outputs": [],
   "source": [
    "refactored_fp = 'output/254516_refactored.csv'\n",
    "\n",
    "output_dir = os.path.dirname(refactored_fp)\n",
    "if not os.path.exists(output_dir):\n",
    "    os.makedirs(output_dir)\n",
    "\n",
    "data.to_csv(refactored_fp, index=False)"
   ],
   "metadata": {
    "collapsed": false,
    "ExecuteTime": {
     "end_time": "2024-03-29T21:04:23.723560Z",
     "start_time": "2024-03-29T21:04:23.710409Z"
    }
   },
   "id": "5734b29747b45fc",
   "execution_count": 22
  },
  {
   "cell_type": "code",
   "outputs": [],
   "source": [],
   "metadata": {
    "collapsed": false
   },
   "id": "ec0f91e6991983e2"
  }
 ],
 "metadata": {
  "kernelspec": {
   "display_name": "Python 3",
   "language": "python",
   "name": "python3"
  },
  "language_info": {
   "codemirror_mode": {
    "name": "ipython",
    "version": 2
   },
   "file_extension": ".py",
   "mimetype": "text/x-python",
   "name": "python",
   "nbconvert_exporter": "python",
   "pygments_lexer": "ipython2",
   "version": "2.7.6"
  }
 },
 "nbformat": 4,
 "nbformat_minor": 5
}
