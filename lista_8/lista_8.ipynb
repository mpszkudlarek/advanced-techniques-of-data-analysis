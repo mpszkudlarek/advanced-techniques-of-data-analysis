{
 "cells": [
  {
   "metadata": {
    "ExecuteTime": {
     "end_time": "2024-04-15T22:31:36.891231Z",
     "start_time": "2024-04-15T22:31:36.734187Z"
    }
   },
   "cell_type": "code",
   "source": [
    "import weka.core.jvm as jvm\n",
    "from weka.core.converters import Loader, Saver\n",
    "from weka.core.dataset import Instances\n",
    "from weka.filters import Filter"
   ],
   "id": "fe88ab67060245d6",
   "outputs": [],
   "execution_count": 1
  },
  {
   "metadata": {
    "ExecuteTime": {
     "end_time": "2024-04-15T22:31:37.047834Z",
     "start_time": "2024-04-15T22:31:36.893233Z"
    }
   },
   "cell_type": "code",
   "source": "jvm.start()",
   "id": "e8f7908c9958cfc0",
   "outputs": [
    {
     "name": "stderr",
     "output_type": "stream",
     "text": [
      "DEBUG:weka.core.jvm:Adding bundled jars\n",
      "DEBUG:weka.core.jvm:Classpath=['C:\\\\Users\\\\micha\\\\anaconda3\\\\envs\\\\weka_env\\\\Lib\\\\site-packages\\\\javabridge\\\\jars\\\\rhino-1.7R4.jar', 'C:\\\\Users\\\\micha\\\\anaconda3\\\\envs\\\\weka_env\\\\Lib\\\\site-packages\\\\javabridge\\\\jars\\\\runnablequeue.jar', 'C:\\\\Users\\\\micha\\\\anaconda3\\\\envs\\\\weka_env\\\\Lib\\\\site-packages\\\\javabridge\\\\jars\\\\cpython.jar', 'C:\\\\Users\\\\micha\\\\anaconda3\\\\envs\\\\weka_env\\\\lib\\\\site-packages\\\\weka\\\\lib\\\\arpack_combined.jar', 'C:\\\\Users\\\\micha\\\\anaconda3\\\\envs\\\\weka_env\\\\lib\\\\site-packages\\\\weka\\\\lib\\\\core.jar', 'C:\\\\Users\\\\micha\\\\anaconda3\\\\envs\\\\weka_env\\\\lib\\\\site-packages\\\\weka\\\\lib\\\\mtj.jar', 'C:\\\\Users\\\\micha\\\\anaconda3\\\\envs\\\\weka_env\\\\lib\\\\site-packages\\\\weka\\\\lib\\\\python-weka-wrapper.jar', 'C:\\\\Users\\\\micha\\\\anaconda3\\\\envs\\\\weka_env\\\\lib\\\\site-packages\\\\weka\\\\lib\\\\weka.jar']\n",
      "DEBUG:weka.core.jvm:MaxHeapSize=default\n",
      "DEBUG:weka.core.jvm:Package support disabled\n"
     ]
    }
   ],
   "execution_count": 2
  },
  {
   "metadata": {
    "ExecuteTime": {
     "end_time": "2024-04-15T22:31:37.126360Z",
     "start_time": "2024-04-15T22:31:37.049833Z"
    }
   },
   "cell_type": "code",
   "source": [
    "\n",
    "loader = Loader(classname=\"weka.core.converters.ArffLoader\")\n",
    "data = loader.load_file(\"z_listy_7.arff\")\n",
    "data.class_is_last()\n",
    "# -C num\n",
    "# Choose attribute to be used for selection (default last).\n",
    "# \n",
    "# -S num\n",
    "# Numeric value to be used for selection on numeric attribute. Instances with values smaller than given value will be selected. (default 0)\n",
    "# \n",
    "# -L index1,index2-index4,...\n",
    "# Range of label indices to be used for selection on nominal attribute. First and last are valid indexes. (default all values)\n",
    "# \n",
    "# -M\n",
    "# Missing values count as a match. This setting is independent of the -V option. (default missing values don't match)\n",
    "# \n",
    "# -V\n",
    "# Invert matching sense.\n",
    "# \n",
    "# -H\n",
    "# When selecting on nominal attributes, removes header references to excluded values.\n"
   ],
   "id": "f5b53a43e915edc5",
   "outputs": [],
   "execution_count": 3
  },
  {
   "metadata": {
    "ExecuteTime": {
     "end_time": "2024-04-15T22:31:37.158359Z",
     "start_time": "2024-04-15T22:31:37.127362Z"
    }
   },
   "cell_type": "code",
   "source": [
    "print(\"Number of instances before filtering(odmowa):\", data.num_instances)\n",
    "remove_filter = Filter(classname=\"weka.filters.unsupervised.instance.RemoveWithValues\", options=[\n",
    "    \"-C\", str(data.attribute_by_name(\"status pozyczki\").index + 1),\n",
    "    \"-L\", \"2\"])  # value to remove\n",
    "remove_filter.inputformat(data)\n",
    "data_after_odmowa = Instances.copy_instances(remove_filter.filter(data))\n",
    "\n",
    "print(\"Number of instances after filtering(odmowa):\", data_after_odmowa.num_instances)\n",
    "print(\"Difference:\", data.num_instances - data_after_odmowa.num_instances, \"From csv info it should be 145\")"
   ],
   "id": "b5323ec7196bcc38",
   "outputs": [
    {
     "name": "stdout",
     "output_type": "stream",
     "text": [
      "Number of instances before filtering(odmowa): 1581\n",
      "Number of instances after filtering(odmowa): 1436\n",
      "Difference: 145 From csv info it should be 145\n",
      "--------------------------------------------------\n"
     ]
    }
   ],
   "execution_count": 4
  },
  {
   "metadata": {
    "ExecuteTime": {
     "end_time": "2024-04-15T22:31:37.220469Z",
     "start_time": "2024-04-15T22:31:37.160359Z"
    }
   },
   "cell_type": "code",
   "source": [
    "print(\"Number of instances before filtering(>900):\", data_after_odmowa.num_instances)\n",
    "remove_filter = Filter(classname=\"weka.filters.unsupervised.instance.RemoveWithValues\", options=[\n",
    "    \"-C\", str(data_after_odmowa.attribute_by_name(\"kwota kredytu\").index + 1),\n",
    "    \"-S\", \"900\",\n",
    "    \"-V\"\n",
    "])\n",
    "remove_filter.inputformat(data_after_odmowa)\n",
    "\n",
    "data_after_900 = Instances.copy_instances(remove_filter.filter(data_after_odmowa))\n",
    "print(\"Number of instances after filtering(>900):\", data_after_900.num_instances)\n",
    "\n",
    "removed_instances = data_after_odmowa.num_instances - data_after_900.num_instances\n",
    "print(\"Difference:\", removed_instances, \"From csv info it should be 62\")\n",
    "\n",
    "saver = Saver(classname=\"weka.core.converters.ArffSaver\")\n",
    "saver.save_file(data_after_900, \"po_skrypcie_1.arff\")"
   ],
   "id": "5f9cc1ac14773ccb",
   "outputs": [
    {
     "name": "stdout",
     "output_type": "stream",
     "text": [
      "Number of instances before filtering(>900): 1436\n",
      "Number of instances after filtering(>900): 1374\n",
      "Difference: 62 From csv info it should be 62\n",
      "--------------------------------------------------\n"
     ]
    }
   ],
   "execution_count": 5
  },
  {
   "metadata": {
    "ExecuteTime": {
     "end_time": "2024-04-15T22:31:37.252468Z",
     "start_time": "2024-04-15T22:31:37.222469Z"
    }
   },
   "cell_type": "code",
   "source": [
    "remove_attribute = Filter(classname=\"weka.filters.unsupervised.attribute.Remove\", options=[\"-R\", str(data_after_900.attribute_by_name(\"status pozyczki\").index + 1)])\n",
    "remove_attribute.inputformat(data_after_900)\n",
    "data_no_status_pozyczki = Instances.copy_instances(remove_attribute.filter(data_after_900))\n",
    "\n",
    "saver = Saver(classname=\"weka.core.converters.ArffSaver\")\n",
    "saver.save_file(data_no_status_pozyczki, \"po_skrypcie_2.arff\")\n"
   ],
   "id": "259d40f557f69341",
   "outputs": [],
   "execution_count": 6
  },
  {
   "metadata": {
    "ExecuteTime": {
     "end_time": "2024-04-15T22:31:37.328869Z",
     "start_time": "2024-04-15T22:31:37.254470Z"
    }
   },
   "cell_type": "code",
   "source": "jvm.stop()",
   "id": "4fbec2ba9ea3482b",
   "outputs": [],
   "execution_count": 7
  }
 ],
 "metadata": {
  "kernelspec": {
   "display_name": "Python 3",
   "language": "python",
   "name": "python3"
  },
  "language_info": {
   "codemirror_mode": {
    "name": "ipython",
    "version": 2
   },
   "file_extension": ".py",
   "mimetype": "text/x-python",
   "name": "python",
   "nbconvert_exporter": "python",
   "pygments_lexer": "ipython2",
   "version": "2.7.6"
  }
 },
 "nbformat": 4,
 "nbformat_minor": 5
}
