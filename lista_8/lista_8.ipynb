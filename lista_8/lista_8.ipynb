{
 "cells": [
  {
   "metadata": {
    "ExecuteTime": {
     "end_time": "2024-04-15T21:19:56.139975Z",
     "start_time": "2024-04-15T21:19:55.693386Z"
    }
   },
   "cell_type": "code",
   "source": [
    "import weka.core.jvm as jvm\n",
    "from weka.core.converters import Loader, Saver\n",
    "from weka.core.dataset import Instances\n",
    "from weka.filters import Filter\n",
    "jvm.start()\n",
    "\n",
    "# Load the dataset\n",
    "loader = Loader(classname=\"weka.core.converters.ArffLoader\")\n",
    "data = loader.load_file(\"z_listy_7.arff\")\n",
    "data.class_is_last()  # \n",
    "\n",
    "# C - attribute index\n",
    "# L - value to delete ( 'first' or 'last' or specific value)\n",
    "# V - reverse the selection\n",
    "# S - split point\n",
    "# R - attribute to remove\n",
    "# first - remove instances with the first value\n",
    "# last - remove instances with the last value\n",
    "print(\"Number of instances before filtering(odmowa):\", data.num_instances)\n",
    "\n",
    "remove_filter = Filter(classname=\"weka.filters.unsupervised.instance.RemoveWithValues\", options=[\n",
    "    \"-C\", str(data.attribute_by_name(\"status pozyczki\").index + 1), # index of the attribute\n",
    "    \"-L\", \"2\"]) # value to remove\n",
    "remove_filter.inputformat(data)\n",
    "data_after_odmowa = Instances.copy_instances(remove_filter.filter(data))\n",
    "\n",
    "print(\"Number of instances after filtering(odmowa):\", data_after_odmowa.num_instances)\n",
    "\n",
    "print(\"Number of instances before filtering(900):\", data_after_odmowa.num_instances)\n",
    "remove_filter = Filter(classname=\"weka.filters.unsupervised.instance.RemoveWithValues\", options=[\n",
    "    \"-C\", str(data_after_odmowa.attribute_by_name(\"kwota kredytu\").index + 1), \n",
    "    \"-S\", \"500\", \"-L\", \"last\"]) \n",
    "\n",
    "remove_filter.inputformat(data_after_odmowa)\n",
    "data_after_900 = Instances.copy_instances(remove_filter.filter(data_after_odmowa))\n",
    "print(\"Number of instances after filtering(900):\", data_after_900.num_instances) # powinno byc 65-9=56 wedlug csv\n",
    "\n",
    "saver = Saver(classname=\"weka.core.converters.ArffSaver\")\n",
    "saver.save_file(data_after_900, \"po_skrypcie_1.arff\")\n",
    "\n",
    "# remove_attribute = Filter(classname=\"weka.filters.unsupervised.attribute.Remove\", options=[\"-R\", str(data.attribute_by_name(\"status pozyczki\").index + 1)])\n",
    "# remove_attribute.inputformat(data)\n",
    "# data = Instances.copy_instances(remove_attribute.filter(data))\n",
    "# \n",
    "# saver = Saver(classname=\"weka.core.converters.ArffSaver\")\n",
    "# saver.save_file(data, \"po_skrypcie_2.arff\")\n",
    "# \n",
    "\n",
    "jvm.stop()\n"
   ],
   "id": "f5b53a43e915edc5",
   "outputs": [
    {
     "name": "stderr",
     "output_type": "stream",
     "text": [
      "DEBUG:weka.core.jvm:Adding bundled jars\n",
      "DEBUG:weka.core.jvm:Classpath=['C:\\\\Users\\\\micha\\\\anaconda3\\\\envs\\\\weka_env\\\\Lib\\\\site-packages\\\\javabridge\\\\jars\\\\rhino-1.7R4.jar', 'C:\\\\Users\\\\micha\\\\anaconda3\\\\envs\\\\weka_env\\\\Lib\\\\site-packages\\\\javabridge\\\\jars\\\\runnablequeue.jar', 'C:\\\\Users\\\\micha\\\\anaconda3\\\\envs\\\\weka_env\\\\Lib\\\\site-packages\\\\javabridge\\\\jars\\\\cpython.jar', 'C:\\\\Users\\\\micha\\\\anaconda3\\\\envs\\\\weka_env\\\\lib\\\\site-packages\\\\weka\\\\lib\\\\arpack_combined.jar', 'C:\\\\Users\\\\micha\\\\anaconda3\\\\envs\\\\weka_env\\\\lib\\\\site-packages\\\\weka\\\\lib\\\\core.jar', 'C:\\\\Users\\\\micha\\\\anaconda3\\\\envs\\\\weka_env\\\\lib\\\\site-packages\\\\weka\\\\lib\\\\mtj.jar', 'C:\\\\Users\\\\micha\\\\anaconda3\\\\envs\\\\weka_env\\\\lib\\\\site-packages\\\\weka\\\\lib\\\\python-weka-wrapper.jar', 'C:\\\\Users\\\\micha\\\\anaconda3\\\\envs\\\\weka_env\\\\lib\\\\site-packages\\\\weka\\\\lib\\\\weka.jar']\n",
      "DEBUG:weka.core.jvm:MaxHeapSize=default\n",
      "DEBUG:weka.core.jvm:Package support disabled\n"
     ]
    },
    {
     "name": "stdout",
     "output_type": "stream",
     "text": [
      "Number of instances before filtering(odmowa): 1324\n",
      "Number of instances after filtering(odmowa): 1201\n",
      "Number of instances before filtering(900): 1201\n",
      "Number of instances after filtering(900): 337\n"
     ]
    }
   ],
   "execution_count": 1
  },
  {
   "metadata": {},
   "cell_type": "code",
   "outputs": [],
   "execution_count": null,
   "source": "",
   "id": "4fbec2ba9ea3482b"
  },
  {
   "metadata": {},
   "cell_type": "code",
   "source": "",
   "id": "17eba456f140c6b4",
   "outputs": [],
   "execution_count": null
  }
 ],
 "metadata": {
  "kernelspec": {
   "display_name": "Python 3",
   "language": "python",
   "name": "python3"
  },
  "language_info": {
   "codemirror_mode": {
    "name": "ipython",
    "version": 2
   },
   "file_extension": ".py",
   "mimetype": "text/x-python",
   "name": "python",
   "nbconvert_exporter": "python",
   "pygments_lexer": "ipython2",
   "version": "2.7.6"
  }
 },
 "nbformat": 4,
 "nbformat_minor": 5
}
