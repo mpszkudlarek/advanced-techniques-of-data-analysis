{
 "cells": [
  {
   "cell_type": "code",
   "id": "initial_id",
   "metadata": {
    "collapsed": true,
    "ExecuteTime": {
     "end_time": "2024-04-15T21:50:05.015908Z",
     "start_time": "2024-04-15T21:50:04.997397Z"
    }
   },
   "source": "import pandas as pd",
   "outputs": [],
   "execution_count": 13
  },
  {
   "metadata": {
    "ExecuteTime": {
     "end_time": "2024-04-15T21:50:05.030746Z",
     "start_time": "2024-04-15T21:50:05.018239Z"
    }
   },
   "cell_type": "code",
   "source": [
    "input_file = 'z_listy_7.csv'\n",
    "output_file = 'output_do_sprawdzenia.csv'\n",
    "\n",
    "data = pd.read_csv(input_file)\n",
    "print(\"Liczba rekordów przed usunięciem:\", data.shape[0])\n",
    "\n",
    "cleaned_data = data[data['status pozyczki'] != 'odmowa']\n",
    "\n",
    "\n",
    "print(\"Liczba rekordów po usunięciu:\", cleaned_data.shape[0])\n",
    "print(\"Liczba rekordów usuniętych:\", data.shape[0] - cleaned_data.shape[0])\n"
   ],
   "id": "625ea262c254c762",
   "outputs": [
    {
     "name": "stdout",
     "output_type": "stream",
     "text": [
      "Liczba rekordów przed usunięciem: 1581\n",
      "Liczba rekordów po usunięciu: 1436\n",
      "Liczba rekordów usuniętych: 145\n"
     ]
    }
   ],
   "execution_count": 14
  },
  {
   "metadata": {
    "ExecuteTime": {
     "end_time": "2024-04-15T22:21:07.481658Z",
     "start_time": "2024-04-15T22:21:07.474612Z"
    }
   },
   "cell_type": "code",
   "source": [
    "print(\"Liczba rekordów przed usunięciem:\", data.shape[0])\n",
    "cleaned_data = data[(data['kwota kredytu'] < 900)]\n",
    "print(\"Liczba rekordów po usunięciu:\", cleaned_data.shape[0])\n",
    "print(\"Liczba rekordów usuniętych:\", data.shape[0] - cleaned_data.shape[0])"
   ],
   "id": "1423081783ded890",
   "outputs": [
    {
     "name": "stdout",
     "output_type": "stream",
     "text": [
      "Liczba rekordów przed usunięciem: 1581\n",
      "Liczba rekordów po usunięciu: 1508\n",
      "Liczba rekordów usuniętych: 73\n"
     ]
    }
   ],
   "execution_count": 18
  },
  {
   "metadata": {
    "ExecuteTime": {
     "end_time": "2024-04-15T21:50:05.062148Z",
     "start_time": "2024-04-15T21:50:05.048889Z"
    }
   },
   "cell_type": "code",
   "source": [
    "cleaned_data.to_csv(output_file, index=False)\n",
    "print(\"Zapisano do pliku:\", output_file)"
   ],
   "id": "8649a5e3213d7ae3",
   "outputs": [
    {
     "name": "stdout",
     "output_type": "stream",
     "text": [
      "Zapisano do pliku: output_do_sprawdzenia.csv\n"
     ]
    }
   ],
   "execution_count": 16
  },
  {
   "metadata": {
    "ExecuteTime": {
     "end_time": "2024-04-15T21:50:05.078194Z",
     "start_time": "2024-04-15T21:50:05.064148Z"
    }
   },
   "cell_type": "code",
   "source": "",
   "id": "ff58cc91a3a06df1",
   "outputs": [],
   "execution_count": 16
  }
 ],
 "metadata": {
  "kernelspec": {
   "display_name": "Python 3",
   "language": "python",
   "name": "python3"
  },
  "language_info": {
   "codemirror_mode": {
    "name": "ipython",
    "version": 2
   },
   "file_extension": ".py",
   "mimetype": "text/x-python",
   "name": "python",
   "nbconvert_exporter": "python",
   "pygments_lexer": "ipython2",
   "version": "2.7.6"
  }
 },
 "nbformat": 4,
 "nbformat_minor": 5
}
