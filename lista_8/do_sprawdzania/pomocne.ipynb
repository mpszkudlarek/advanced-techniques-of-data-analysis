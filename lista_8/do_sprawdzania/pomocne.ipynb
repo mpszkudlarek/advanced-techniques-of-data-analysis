{
 "cells": [
  {
   "cell_type": "code",
   "id": "initial_id",
   "metadata": {
    "collapsed": true,
    "ExecuteTime": {
     "end_time": "2024-04-15T21:22:40.820670Z",
     "start_time": "2024-04-15T21:22:40.338720Z"
    }
   },
   "source": "import pandas as pd",
   "outputs": [],
   "execution_count": 1
  },
  {
   "metadata": {
    "ExecuteTime": {
     "end_time": "2024-04-15T21:24:32.170957Z",
     "start_time": "2024-04-15T21:24:32.140014Z"
    }
   },
   "cell_type": "code",
   "source": [
    "input_file = 'output.csv'\n",
    "output_file = 'output_bez_odmowa.csv'\n",
    "\n",
    "data = pd.read_csv(input_file)\n",
    "print(\"Liczba rekordów przed usunięciem:\", data.shape[0])\n",
    "\n",
    "cleaned_data = data[data['status pozyczki'] != 'odmowa']\n",
    "\n",
    "cleaned_data.to_csv(output_file, index=False)\n",
    "print(\"Liczba rekordów po usunięciu:\", cleaned_data.shape[0])\n",
    "print(\"Liczba rekordów usuniętych:\", data.shape[0] - cleaned_data.shape[0])\n"
   ],
   "id": "625ea262c254c762",
   "outputs": [
    {
     "name": "stdout",
     "output_type": "stream",
     "text": [
      "Liczba rekordów przed usunięciem: 1581\n",
      "Liczba rekordów po usunięciu: 1436\n",
      "Liczba rekordów usuniętych: 145\n"
     ]
    }
   ],
   "execution_count": 6
  },
  {
   "metadata": {},
   "cell_type": "code",
   "outputs": [],
   "execution_count": null,
   "source": "",
   "id": "1423081783ded890"
  }
 ],
 "metadata": {
  "kernelspec": {
   "display_name": "Python 3",
   "language": "python",
   "name": "python3"
  },
  "language_info": {
   "codemirror_mode": {
    "name": "ipython",
    "version": 2
   },
   "file_extension": ".py",
   "mimetype": "text/x-python",
   "name": "python",
   "nbconvert_exporter": "python",
   "pygments_lexer": "ipython2",
   "version": "2.7.6"
  }
 },
 "nbformat": 4,
 "nbformat_minor": 5
}
