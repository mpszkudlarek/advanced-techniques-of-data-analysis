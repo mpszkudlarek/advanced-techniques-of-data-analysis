{
 "cells": [
  {
   "metadata": {
    "ExecuteTime": {
     "end_time": "2024-04-19T06:31:03.164779Z",
     "start_time": "2024-04-19T06:31:02.792629Z"
    }
   },
   "cell_type": "code",
   "source": [
    "import weka.core.jvm as jvm\n",
    "jvm.stop()"
   ],
   "id": "5253be61267d6fda",
   "outputs": [],
   "execution_count": 1
  },
  {
   "metadata": {
    "ExecuteTime": {
     "end_time": "2024-04-19T06:31:04.201720Z",
     "start_time": "2024-04-19T06:31:03.169820Z"
    }
   },
   "cell_type": "code",
   "source": [
    "import weka.core.jvm as jvm\n",
    "from weka.core.converters import Loader\n",
    "from weka.classifiers import Classifier, Evaluation\n",
    "from weka.core.classes import Random\n",
    "import numpy as np\n",
    "import pandas as pd"
   ],
   "id": "initial_id",
   "outputs": [],
   "execution_count": 2
  },
  {
   "metadata": {
    "ExecuteTime": {
     "end_time": "2024-04-19T06:31:04.233850Z",
     "start_time": "2024-04-19T06:31:04.201720Z"
    }
   },
   "cell_type": "code",
   "source": [
    "def load_data(file_path):\n",
    "    loader = Loader(classname=\"weka.core.converters.ArffLoader\")\n",
    "    data = loader.load_file(file_path)\n",
    "    data.class_is_last()\n",
    "    return data\n",
    "\n",
    "\n",
    "def check_class_distribution(data):\n",
    "    class_attribute = data.class_attribute\n",
    "    counts = [data.attribute_stats(data.class_index).nominal_counts[i] for i in range(class_attribute.num_values)]\n",
    "    class_labels = [class_attribute.value(i) for i in range(class_attribute.num_values)]\n",
    "    distribution = dict(zip(class_labels, counts))\n",
    "    print(\"Dystrybucja klas w zbiorze danych:\", distribution)\n",
    "\n",
    "\n",
    "def perform_cross_validation(classifier_name, data, folds, repeats, seed=1):\n",
    "    cls = Classifier(classname=classifier_name)\n",
    "\n",
    "    summed_confusion_matrix = None\n",
    "    accuracy_scores = []\n",
    "    tp_rates = []\n",
    "    tn_rates = []\n",
    "    gm_scores = []\n",
    "    auc_scores = []\n",
    "\n",
    "    random_instance = Random(seed)\n",
    "\n",
    "    for _ in range(repeats):\n",
    "        eval = Evaluation(data)\n",
    "        eval.crossvalidate_model(cls, data, folds, random_instance)\n",
    "\n",
    "        if summed_confusion_matrix is None:\n",
    "            summed_confusion_matrix = np.array(eval.confusion_matrix)\n",
    "        else:\n",
    "            summed_confusion_matrix += eval.confusion_matrix\n",
    "\n",
    "        accuracy_scores.append(eval.percent_correct)\n",
    "        tp_rates.append(eval.true_positive_rate(1))\n",
    "        tn_rates.append(eval.true_negative_rate(1))\n",
    "        gm_scores.append(eval.kappa)\n",
    "        auc_scores.append(eval.area_under_roc(1))\n",
    "\n",
    "    summed_confusion_matrix = np.round(summed_confusion_matrix / repeats, 4)  # [0.0] - TN, [0.1] - FP, [1.0] - FN, [1.1] - TP\n",
    "    mean_accuracy = np.round(np.mean(accuracy_scores), 4)\n",
    "    mean_tprate = np.round(np.mean(tp_rates), 4)\n",
    "    mean_tnrate = np.round(np.mean(tn_rates), 4)\n",
    "    mean_gmean = np.round(np.mean(gm_scores), 4)\n",
    "    mean_auc = np.round(np.mean(auc_scores), 4)\n",
    "\n",
    "    return summed_confusion_matrix, mean_accuracy, mean_tprate, mean_tnrate, mean_gmean, mean_auc"
   ],
   "id": "d458bd8c09a5712",
   "outputs": [],
   "execution_count": 3
  },
  {
   "metadata": {
    "ExecuteTime": {
     "end_time": "2024-04-19T06:35:46.237048Z",
     "start_time": "2024-04-19T06:31:04.233850Z"
    }
   },
   "cell_type": "code",
   "source": [
    "jvm.start()\n",
    "\n",
    "classifiers = {\n",
    "    \"ZeroRule\": \"weka.classifiers.rules.ZeroR\",\n",
    "    \"JRip\": \"weka.classifiers.rules.JRip\",\n",
    "    \"J48\": \"weka.classifiers.trees.J48\",\n",
    "    \"SMO\": \"weka.classifiers.functions.SMO\",\n",
    "    \"MultilayerPerceptron\": \"weka.classifiers.functions.MultilayerPerceptron\",\n",
    "    \"NaiveBayes\": \"weka.classifiers.bayes.NaiveBayes\"\n",
    "}\n",
    "\n",
    "file_path = \"input/L4._1_po_weka.arff\"\n",
    "data = load_data(file_path)\n",
    "check_class_distribution(data)\n",
    "\n",
    "fold_options = [5, 10, 15]\n",
    "repeat_options = [1, 3, 5]\n",
    "results_list = []\n",
    "\n",
    "\n",
    "for name, classname in classifiers.items():\n",
    "    print(f\"Testing classifier: {name}\")\n",
    "    for folds in fold_options:\n",
    "        for repeats in repeat_options:\n",
    "            print(f\" - with {folds} folds and {repeats} repeats\")\n",
    "            confusion_matrix, mean_accuracy, mean_tprate, mean_tnrate, mean_gmean, mean_auc = perform_cross_validation(classname, data, folds, repeats)\n",
    "            results_list.append({\n",
    "                \"Classifier\": name,\n",
    "                \"Folds\": folds,\n",
    "                \"Repeats\": repeats,\n",
    "                \"Confusion Matrix\": str(confusion_matrix),\n",
    "                \"Mean Accuracy\": mean_accuracy,\n",
    "                \"Mean TPrate\": mean_tprate,\n",
    "                \"Mean TNrate\": mean_tnrate,\n",
    "                \"Mean GMean\": mean_gmean,\n",
    "                \"Mean AUC\": mean_auc\n",
    "            })\n",
    "\n",
    "# Convert results into a DataFrame\n",
    "results_df = pd.DataFrame(results_list)\n",
    "\n",
    "# Save the DataFrame to a CSV file\n",
    "results_df.to_csv(\"output/classification_results.csv\", index=False)\n",
    "\n",
    "print(\"Results have been saved to 'classification_results.csv'\")\n",
    "\n",
    "jvm.stop()"
   ],
   "id": "899739330af9c",
   "outputs": [
    {
     "name": "stderr",
     "output_type": "stream",
     "text": [
      "DEBUG:weka.core.jvm:Adding bundled jars\n",
      "DEBUG:weka.core.jvm:Classpath=['C:\\\\Users\\\\micha\\\\anaconda3\\\\envs\\\\weka_env\\\\Lib\\\\site-packages\\\\javabridge\\\\jars\\\\rhino-1.7R4.jar', 'C:\\\\Users\\\\micha\\\\anaconda3\\\\envs\\\\weka_env\\\\Lib\\\\site-packages\\\\javabridge\\\\jars\\\\runnablequeue.jar', 'C:\\\\Users\\\\micha\\\\anaconda3\\\\envs\\\\weka_env\\\\Lib\\\\site-packages\\\\javabridge\\\\jars\\\\cpython.jar', 'C:\\\\Users\\\\micha\\\\anaconda3\\\\envs\\\\weka_env\\\\lib\\\\site-packages\\\\weka\\\\lib\\\\arpack_combined.jar', 'C:\\\\Users\\\\micha\\\\anaconda3\\\\envs\\\\weka_env\\\\lib\\\\site-packages\\\\weka\\\\lib\\\\core.jar', 'C:\\\\Users\\\\micha\\\\anaconda3\\\\envs\\\\weka_env\\\\lib\\\\site-packages\\\\weka\\\\lib\\\\mtj.jar', 'C:\\\\Users\\\\micha\\\\anaconda3\\\\envs\\\\weka_env\\\\lib\\\\site-packages\\\\weka\\\\lib\\\\python-weka-wrapper.jar', 'C:\\\\Users\\\\micha\\\\anaconda3\\\\envs\\\\weka_env\\\\lib\\\\site-packages\\\\weka\\\\lib\\\\weka.jar']\n",
      "DEBUG:weka.core.jvm:MaxHeapSize=default\n",
      "DEBUG:weka.core.jvm:Package support disabled\n"
     ]
    },
    {
     "name": "stdout",
     "output_type": "stream",
     "text": [
      "Dystrybucja klas w zbiorze danych: {'dobry': 1362, 'zly': 219}\n",
      "Testing classifier: ZeroRule\n",
      " - with 5 folds and 1 repeats\n",
      " - with 5 folds and 3 repeats\n",
      " - with 5 folds and 5 repeats\n",
      " - with 10 folds and 1 repeats\n",
      " - with 10 folds and 3 repeats\n",
      " - with 10 folds and 5 repeats\n",
      " - with 15 folds and 1 repeats\n",
      " - with 15 folds and 3 repeats\n",
      " - with 15 folds and 5 repeats\n",
      "Testing classifier: JRip\n",
      " - with 5 folds and 1 repeats\n",
      " - with 5 folds and 3 repeats\n",
      " - with 5 folds and 5 repeats\n",
      " - with 10 folds and 1 repeats\n",
      " - with 10 folds and 3 repeats\n",
      " - with 10 folds and 5 repeats\n",
      " - with 15 folds and 1 repeats\n",
      " - with 15 folds and 3 repeats\n",
      " - with 15 folds and 5 repeats\n",
      "Testing classifier: J48\n",
      " - with 5 folds and 1 repeats\n",
      " - with 5 folds and 3 repeats\n",
      " - with 5 folds and 5 repeats\n",
      " - with 10 folds and 1 repeats\n",
      " - with 10 folds and 3 repeats\n",
      " - with 10 folds and 5 repeats\n",
      " - with 15 folds and 1 repeats\n",
      " - with 15 folds and 3 repeats\n",
      " - with 15 folds and 5 repeats\n",
      "Testing classifier: SMO\n",
      " - with 5 folds and 1 repeats\n",
      " - with 5 folds and 3 repeats\n",
      " - with 5 folds and 5 repeats\n",
      " - with 10 folds and 1 repeats\n",
      " - with 10 folds and 3 repeats\n",
      " - with 10 folds and 5 repeats\n",
      " - with 15 folds and 1 repeats\n",
      " - with 15 folds and 3 repeats\n",
      " - with 15 folds and 5 repeats\n",
      "Testing classifier: MultilayerPerceptron\n",
      " - with 5 folds and 1 repeats\n",
      " - with 5 folds and 3 repeats\n",
      " - with 5 folds and 5 repeats\n",
      " - with 10 folds and 1 repeats\n",
      " - with 10 folds and 3 repeats\n",
      " - with 10 folds and 5 repeats\n",
      " - with 15 folds and 1 repeats\n",
      " - with 15 folds and 3 repeats\n",
      " - with 15 folds and 5 repeats\n",
      "Testing classifier: NaiveBayes\n",
      " - with 5 folds and 1 repeats\n",
      " - with 5 folds and 3 repeats\n",
      " - with 5 folds and 5 repeats\n",
      " - with 10 folds and 1 repeats\n",
      " - with 10 folds and 3 repeats\n",
      " - with 10 folds and 5 repeats\n",
      " - with 15 folds and 1 repeats\n",
      " - with 15 folds and 3 repeats\n",
      " - with 15 folds and 5 repeats\n",
      "Results have been saved to 'classification_results.csv'\n"
     ]
    }
   ],
   "execution_count": 4
  },
  {
   "metadata": {
    "ExecuteTime": {
     "end_time": "2024-04-19T06:35:46.248190Z",
     "start_time": "2024-04-19T06:35:46.241859Z"
    }
   },
   "cell_type": "code",
   "source": "",
   "id": "f88bf77aa996991e",
   "outputs": [],
   "execution_count": 4
  }
 ],
 "metadata": {
  "kernelspec": {
   "display_name": "Python 3",
   "language": "python",
   "name": "python3"
  },
  "language_info": {
   "codemirror_mode": {
    "name": "ipython",
    "version": 2
   },
   "file_extension": ".py",
   "mimetype": "text/x-python",
   "name": "python",
   "nbconvert_exporter": "python",
   "pygments_lexer": "ipython2",
   "version": "2.7.6"
  }
 },
 "nbformat": 4,
 "nbformat_minor": 5
}
