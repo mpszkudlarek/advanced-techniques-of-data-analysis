{
 "cells": [
  {
   "metadata": {
    "ExecuteTime": {
     "end_time": "2024-05-03T20:48:48.453645Z",
     "start_time": "2024-05-03T20:48:47.820476Z"
    }
   },
   "cell_type": "code",
   "source": [
    "import weka.core.jvm as jvm\n",
    "from weka.core.converters import Loader\n",
    "import pandas as pd\n",
    "import numpy as np"
   ],
   "id": "987fde41327b916a",
   "outputs": [],
   "execution_count": 1
  },
  {
   "metadata": {
    "ExecuteTime": {
     "end_time": "2024-05-03T20:48:51.501627Z",
     "start_time": "2024-05-03T20:48:48.456543Z"
    }
   },
   "cell_type": "code",
   "source": [
    "jvm.start()\n",
    "\n",
    "loader = Loader(classname=\"weka.core.converters.ArffLoader\")\n",
    "data = loader.load_file(\"input/L3_1.arff\")\n",
    "data.class_is_last()\n",
    "\n",
    "data_list = [[inst.get_value(attr.index) for attr in data.attributes()] for inst in data]\n",
    "df = pd.DataFrame(data_list, columns=[attr.name for attr in data.attributes()])\n",
    "data_list = [[inst.get_value(attr.index) for attr in data.attributes()] for inst in data]\n",
    "df = pd.DataFrame(data_list, columns=[attr.name for attr in data.attributes()])\n",
    "\n",
    "# print(df.head())"
   ],
   "id": "initial_id",
   "outputs": [
    {
     "name": "stderr",
     "output_type": "stream",
     "text": [
      "DEBUG:weka.core.jvm:Adding bundled jars\n",
      "DEBUG:weka.core.jvm:Classpath=['C:\\\\Users\\\\micha\\\\anaconda3\\\\envs\\\\weka_env\\\\Lib\\\\site-packages\\\\javabridge\\\\jars\\\\rhino-1.7R4.jar', 'C:\\\\Users\\\\micha\\\\anaconda3\\\\envs\\\\weka_env\\\\Lib\\\\site-packages\\\\javabridge\\\\jars\\\\runnablequeue.jar', 'C:\\\\Users\\\\micha\\\\anaconda3\\\\envs\\\\weka_env\\\\Lib\\\\site-packages\\\\javabridge\\\\jars\\\\cpython.jar', 'C:\\\\Users\\\\micha\\\\anaconda3\\\\envs\\\\weka_env\\\\lib\\\\site-packages\\\\weka\\\\lib\\\\arpack_combined.jar', 'C:\\\\Users\\\\micha\\\\anaconda3\\\\envs\\\\weka_env\\\\lib\\\\site-packages\\\\weka\\\\lib\\\\core.jar', 'C:\\\\Users\\\\micha\\\\anaconda3\\\\envs\\\\weka_env\\\\lib\\\\site-packages\\\\weka\\\\lib\\\\mtj.jar', 'C:\\\\Users\\\\micha\\\\anaconda3\\\\envs\\\\weka_env\\\\lib\\\\site-packages\\\\weka\\\\lib\\\\python-weka-wrapper.jar', 'C:\\\\Users\\\\micha\\\\anaconda3\\\\envs\\\\weka_env\\\\lib\\\\site-packages\\\\weka\\\\lib\\\\weka.jar']\n",
      "DEBUG:weka.core.jvm:MaxHeapSize=default\n",
      "DEBUG:weka.core.jvm:Package support disabled\n"
     ]
    }
   ],
   "execution_count": 2
  },
  {
   "metadata": {
    "ExecuteTime": {
     "end_time": "2024-05-03T20:48:52.303666Z",
     "start_time": "2024-05-03T20:48:51.502629Z"
    }
   },
   "cell_type": "code",
   "source": [
    "def calculate_entropy(df, column):\n",
    "    counts = df[column].value_counts()\n",
    "    probabilities = counts / len(df)\n",
    "    entropy = -np.sum(probabilities * np.log2(probabilities))\n",
    "    return entropy\n",
    "\n",
    "\n",
    "def calculate_gain_ratio(df, attribute, class_col):\n",
    "    total_entropy = calculate_entropy(df, class_col)\n",
    "    values = df[attribute].unique()\n",
    "\n",
    "    weighted_entropy = 0\n",
    "    split_info = 0\n",
    "    for value in values:\n",
    "        subset = df[df[attribute] == value]\n",
    "        prob = len(subset) / len(df)\n",
    "        weighted_entropy += prob * calculate_entropy(subset, class_col)\n",
    "        split_info -= prob * np.log2(prob) if prob > 0 else 0\n",
    "\n",
    "    information_gain = total_entropy - weighted_entropy\n",
    "    gain_ratio = information_gain / split_info if split_info != 0 else float('inf')\n",
    "\n",
    "    return gain_ratio\n",
    "\n",
    "\n",
    "attribute_gain_ratios = {col: calculate_gain_ratio(df, col, class_col='status pozyczki') for col in df.columns if col != 'status pozyczki'}\n",
    "# print(attribute_gain_ratios)\n",
    "\n",
    "with open('output/attributes.txt', 'w') as f:\n",
    "    for attribute, gain_ratio in attribute_gain_ratios.items():\n",
    "        f.write(f\"{attribute}: {gain_ratio:.4f}\\n\")\n",
    "jvm.stop()"
   ],
   "id": "9e4bebb55f861909",
   "outputs": [],
   "execution_count": 3
  },
  {
   "metadata": {},
   "cell_type": "markdown",
   "source": [
    "https://pl.wikipedia.org/wiki/Entropia_(teoria_informacji)\n",
    "log o podstawie 2 dla bitowych decyzji"
   ],
   "id": "12c46c3e0de4a4d5"
  }
 ],
 "metadata": {
  "kernelspec": {
   "display_name": "Python 3",
   "language": "python",
   "name": "python3"
  },
  "language_info": {
   "codemirror_mode": {
    "name": "ipython",
    "version": 2
   },
   "file_extension": ".py",
   "mimetype": "text/x-python",
   "name": "python",
   "nbconvert_exporter": "python",
   "pygments_lexer": "ipython2",
   "version": "2.7.6"
  }
 },
 "nbformat": 4,
 "nbformat_minor": 5
}
