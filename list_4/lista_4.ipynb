{
 "cells": [
  {
   "cell_type": "code",
   "execution_count": 2,
   "id": "4117986efc155023",
   "metadata": {
    "collapsed": false,
    "ExecuteTime": {
     "end_time": "2024-03-21T18:09:13.606305Z",
     "start_time": "2024-03-21T18:09:11.170234Z"
    }
   },
   "outputs": [],
   "source": [
    "import numpy as np\n",
    "from scipy.stats import ttest_ind\n",
    "from scipy.stats import levene\n",
    "from scipy.stats import shapiro\n",
    "import pandas as pd\n",
    "import matplotlib.pyplot as plt\n",
    "import statsmodels.api as sm\n",
    "from scipy.stats import ttest_1samp\n",
    "from scipy.stats import mannwhitneyu"
   ]
  },
  {
   "cell_type": "markdown",
   "id": "8ec53f172c7e39e6",
   "metadata": {
    "collapsed": false
   },
   "source": [
    "# Ćwiczenie 1"
   ]
  },
  {
   "cell_type": "code",
   "execution_count": 2,
   "id": "1e52e3b4941b82e2",
   "metadata": {
    "ExecuteTime": {
     "end_time": "2024-03-21T13:59:10.824498Z",
     "start_time": "2024-03-21T13:59:10.816820Z"
    },
    "collapsed": false
   },
   "outputs": [
    {
     "name": "stdout",
     "output_type": "stream",
     "text": [
      "t_stat: -3.232908267058181, p_value: 0.0014355146245045082, interpretacja: Odrzucamy H0; istnieją istotne statystycznie różnice między grupami.\n"
     ]
    }
   ],
   "source": [
    "# Przykładowe dane dla dwóch grup\n",
    "grupa1 = np.random.normal(170, 10, 100)  # Średnia 170, odchylenie standardowe 10, liczba obserwacji 100\n",
    "grupa2 = np.random.normal(175, 15, 100)  # Średnia 175, odchylenie standardowe 15, liczba obserwacji 100\n",
    "\n",
    "alpha = 0.05\n",
    "\n",
    "t_stat, p_value = ttest_ind(grupa1, grupa2, equal_var=True)\n",
    "\n",
    "# https://docs.scipy.org/doc/scipy/reference/generated/scipy.stats.ttest_ind.html\n",
    "\n",
    "interpretacja = \"Nie odrzucamy H0; brak wystarczających dowodów na różnicę między grupami.\" if p_value > alpha else \"Odrzucamy H0; istnieją istotne statystycznie różnice między grupami.\"\n",
    "\n",
    "print(f\"t_stat: {t_stat}, p_value: {p_value}, interpretacja: {interpretacja}\")"
   ]
  },
  {
   "cell_type": "markdown",
   "id": "777e6d58403eee75",
   "metadata": {
    "collapsed": false
   },
   "source": [
    "# T-test dla prób niezależnych\n",
    "- używany do oceny różnic między średnimi dwóch pewnych artybutów w dwóch niezależnych grupach\n",
    "- lub dwóch artybutów w tej samej grupie \n",
    "## Założenia:\n",
    "- rozkład normalny (badany za pomocą testu np.Shapiro-Wilka)\n",
    "- podobna liczebność prób (test chi-kwadrat zgodności), ale jak jedna nie jest od drugiej dwa razy większa to git\n",
    "- równość wariancji (test Levene'a)"
   ]
  },
  {
   "cell_type": "markdown",
   "id": "6a1d2e6f30065770",
   "metadata": {
    "collapsed": false
   },
   "source": [
    "# Ćwiczenie 2"
   ]
  },
  {
   "cell_type": "code",
   "execution_count": 8,
   "id": "6d072b04f2d93c91",
   "metadata": {
    "collapsed": false,
    "ExecuteTime": {
     "end_time": "2024-03-21T18:11:32.424314Z",
     "start_time": "2024-03-21T18:11:32.415762Z"
    }
   },
   "outputs": [
    {
     "name": "stdout",
     "output_type": "stream",
     "text": [
      "\n",
      "Sprawdzenie normlaności rozkładu za pomocą testu Shapiro-Wilka:\n",
      "- Dla osób nerwowych: P-wartość = 0.1185, statytstyka testowa: 0.8208, Interpretacja: Nie ma podstaw do odrzucenia normalności rozkładu dla osób nerwowych.\n",
      "- Dla osób spokojnych: P-wartość = 0.4677, statytstyka testowa: 0.9100, Interpretacja: Nie ma podstaw do odrzucenia normalności rozkładu dla osób spokojnych.\n",
      "\n",
      "Sprawdzenie równości wariancji:\n",
      "- P-wartość dla testu Levene'a: 0.1823, statystyka testowa: 2.1333\n",
      "- Nie ma podstaw do odrzucenia H0; wariancje są równe.\n",
      "\n",
      "Wynik testu t dla prób niezależnych:\n",
      "- Wartość t-statystyki: -2.8604, p-wartość dla testu jednostronnego: 0.0106\n",
      "- Interpretacja: Przyjmujemy H1; brak wystarczających dowodów na to, że osoby nerwowe gestykulują więcej niż spokojne.\n",
      "Stopień swobody (df): 8\n"
     ]
    }
   ],
   "source": [
    "nerwowi = np.array([3, 3, 4, 5, 5])\n",
    "spokojni = np.array([4, 6, 7, 9, 9])\n",
    "n_nerwowi = len(nerwowi)\n",
    "n_spokojni = len(spokojni)\n",
    "df = n_nerwowi + n_spokojni - 2\n",
    "\n",
    "# sprawdzenie normalnosci rozkladu\n",
    "shapiro_test_nerwowi_stat, shapiro_test_nerwowi_p_value = shapiro(nerwowi)\n",
    "shapiro_test_spokojni_stat, shapiro_test_spokojni_p_value = shapiro(spokojni)\n",
    "\n",
    "# Sprawdzenie równości wariancji\n",
    "stat_lev, p_lev = levene(nerwowi, spokojni)\n",
    "alpha = 0.05\n",
    "wynik_levene = (\"Nie ma podstaw do odrzucenia H0; wariancje są równe.\" if p_lev > alpha\n",
    "                else \"Przyjmujemy H1; wariancje nie są równe.\")\n",
    "equal_var = p_lev > alpha\n",
    "\n",
    "t_stat, p_value = ttest_ind(nerwowi, spokojni, equal_var=equal_var)\n",
    "p_value_one_sided = p_value / 2  # bo interesuje nas tylko jednostronność testu\n",
    "\n",
    "interpretacja_shapiro_nerwowi = \"Nie ma podstaw do odrzucenia normalności rozkładu dla osób nerwowych.\" if shapiro_test_nerwowi_p_value > alpha else \"Odrzucamy hipotezę o normalności rozkładu dla osób nerwowych.\"\n",
    "interpretacja_shapiro_spokojni = \"Nie ma podstaw do odrzucenia normalności rozkładu dla osób spokojnych.\" if shapiro_test_spokojni_p_value > alpha else \"Odrzucamy hipotezę o normalności rozkładu dla osób spokojnych.\"\n",
    "wynik_levene = \"Nie ma podstaw do odrzucenia H0; wariancje są równe.\" if p_lev > alpha else \"Przyjmujemy H1; wariancje nie są równe.\"\n",
    "interpretacja_testu_t = (\"Odrzucamy H0 na rzecz H1; osoby nerwowe gestykulują więcej niż spokojne.\" if (p_value_one_sided <= alpha and t_stat > 0)\n",
    "                         else \"Przyjmujemy H1; brak wystarczających dowodów na to, że osoby nerwowe gestykulują więcej niż spokojne.\")\n",
    "\n",
    "print(f\"\"\"\n",
    "Sprawdzenie normlaności rozkładu za pomocą testu Shapiro-Wilka:\n",
    "- Dla osób nerwowych: P-wartość = {shapiro_test_nerwowi_p_value:.4f}, statytstyka testowa: {shapiro_test_nerwowi_stat:.4f}, Interpretacja: {interpretacja_shapiro_nerwowi}\n",
    "- Dla osób spokojnych: P-wartość = {shapiro_test_spokojni_p_value:.4f}, statytstyka testowa: {shapiro_test_spokojni_stat:.4f}, Interpretacja: {interpretacja_shapiro_spokojni}\n",
    "\n",
    "Sprawdzenie równości wariancji:\n",
    "- P-wartość dla testu Levene'a: {p_lev:.4f}, statystyka testowa: {stat_lev:.4f}\n",
    "- {wynik_levene}\n",
    "\n",
    "Wynik testu t dla prób niezależnych:\n",
    "- Wartość t-statystyki: {t_stat:.4f}, p-wartość dla testu jednostronnego: {p_value_one_sided:.4f}\n",
    "- Interpretacja: {interpretacja_testu_t}\n",
    "Stopień swobody (df): {df}\n",
    "\"\"\")\n",
    "\n",
    "# Hipoteza zerowa: Nie ma różnicy w średniej ilości gestykulacji między osobami nerwowymi i spokojnymi.\n",
    "# Hipoteza alternatywna: Osoby nerwowe gestykulują więcej niż spokojne.\n",
    "# możemy zastosować test t dla prób niezależnych, ponieważ mamy dwie niezależne grupy obserwacji\n",
    "# test t moze być jednostronny, ponieważ interesuje nas tylko to, czy osoby nerwowe gestykulują więcej\n",
    "# stopień swobody: df = n1 + n2 - 2 = 5 + 5 - 2 = 8"
   ]
  },
  {
   "cell_type": "markdown",
   "id": "f6b9895e83172570",
   "metadata": {
    "collapsed": false
   },
   "source": [
    "# Ćwiczenie 3"
   ]
  },
  {
   "cell_type": "code",
   "execution_count": 10,
   "id": "132c856a571f16bc",
   "metadata": {
    "collapsed": false,
    "ExecuteTime": {
     "end_time": "2024-03-21T18:14:54.974584Z",
     "start_time": "2024-03-21T18:14:54.966630Z"
    }
   },
   "outputs": [
    {
     "name": "stdout",
     "output_type": "stream",
     "text": [
      "\n",
      "Sprawdzenie normalności rozkładu za pomocą testu Shapiro-Wilka:\n",
      "- Dla osób poniżej 30 roku życia: P-wartość = 0.7143, statystyka testowa: 0.9497,\n",
      "  nie ma podstaw do odrzucenia normalności rozkładu.\n",
      "- Dla osób powyżej 30 roku życia: P-wartość = 0.7143, statystyka testowa: 0.9497,\n",
      "  nie ma podstaw do odrzucenia normalności rozkładu.\n",
      "\n",
      "Sprawdzenie równości wariancji:\n",
      "- P-wartość dla testu Levene'a: 1.0000, statystyka testowa: 0.0000\n",
      "- Nie ma podstaw do odrzucenia H0; wariancje są równe.\n",
      "\n",
      "Wynik testu t dla prób niezależnych:\n",
      "- Wartość t-statystyki: 3.0984, p-wartość dla testu jednostronnego: 0.0106\n",
      "- Odrzucamy H0; osoby poniżej 30 są bardziej 'rozbawione'.\n",
      "Stopień swobody (df): 6\n"
     ]
    }
   ],
   "source": [
    "mniej30 = np.array([6, 7, 10, 9])\n",
    "po30 = np.array([5, 6, 2, 3])\n",
    "n_mniej30 = len(mniej30)\n",
    "n_po30 = len(po30)\n",
    "alpha = 0.05\n",
    "\n",
    "stat_lev_3, p_lev_3 = levene(mniej30, po30)\n",
    "shapiro_mniej30_stat, shapiro_mniej30_pvalue = shapiro(mniej30)\n",
    "shapiro_po30_stat, shapiro_po30_pvalue = shapiro(po30)\n",
    "\n",
    "equal_var_3 = p_lev_3 > alpha\n",
    "t_stat_3, p_value_3 = ttest_ind(mniej30, po30, equal_var=equal_var_3)\n",
    "\n",
    "# Ponieważ hipoteza dotyczy tego, że osoby poniżej 30 są bardziej \"rozbawione\", interesuje nas jednostronność testu\n",
    "p_value_one_sided_3 = p_value_3 / 2\n",
    "df = (n_mniej30 + n_po30 - 2)  # 4 + 4 - 2 = 6\n",
    "\n",
    "print(f\"\"\"\n",
    "Sprawdzenie normalności rozkładu za pomocą testu Shapiro-Wilka:\n",
    "- Dla osób poniżej 30 roku życia: P-wartość = {shapiro_mniej30_pvalue:.4f}, statystyka testowa: {shapiro_mniej30_stat:.4f},\n",
    "  {\"nie ma podstaw do odrzucenia normalności rozkładu.\" if shapiro_mniej30_pvalue > alpha else \"rozkład nie jest normalny.\"}\n",
    "- Dla osób powyżej 30 roku życia: P-wartość = {shapiro_po30_pvalue:.4f}, statystyka testowa: {shapiro_po30_stat:.4f},\n",
    "  {\"nie ma podstaw do odrzucenia normalności rozkładu.\" if shapiro_po30_pvalue > alpha else \"rozkład nie jest normalny.\"}\n",
    "\n",
    "Sprawdzenie równości wariancji:\n",
    "- P-wartość dla testu Levene'a: {p_lev_3:.4f}, statystyka testowa: {stat_lev_3:.4f}\n",
    "- {\"Nie ma podstaw do odrzucenia H0; wariancje są równe.\" if equal_var_3 else \"Odrzucamy H0; wariancje nie są równe.\"}\n",
    "\n",
    "Wynik testu t dla prób niezależnych:\n",
    "- Wartość t-statystyki: {t_stat_3:.4f}, p-wartość dla testu jednostronnego: {p_value_one_sided_3:.4f}\n",
    "- {\"Odrzucamy H0; osoby poniżej 30 są bardziej 'rozbawione'.\" if p_value_one_sided_3 <= alpha and t_stat_3 > 0\n",
    "else \"Nie odrzucamy H0; brak dowodów na większe 'rozbawienie' osób poniżej 30.\"}\n",
    "Stopień swobody (df): {df}\n",
    "\"\"\")\n",
    "\n",
    "# Hipoteza zerowa: Nie ma różnicy w poziomie \"rozbawienia\" między osobami poniżej i powyżej 30 roku życia.\n",
    "# Hipoteza alternatywna: Osoby poniżej 30 roku życia są bardziej \"rozbawione\" niż osoby powyżej 30 roku życia.\n",
    "# możemy zastosować test t dla prób niezależnych, ponieważ mamy dwie niezależne grupy obserwacji\n",
    "# test t moze być jednostronny, ponieważ interesuje nas tylko to, czy osoby poniżej 30 są bardziej \"rozbawione\"\n",
    "# stopień swobody: df = n1 + n2 - 2 = 4 + 4 - 2 = 6"
   ]
  },
  {
   "cell_type": "markdown",
   "id": "5e72f8b75b868db",
   "metadata": {
    "collapsed": false
   },
   "source": [
    "# Test t dla prób zależnych\n",
    "- używany w celu weryfikacji czy wyniki danej grupy różnią się pomiędzy warunkami w jakich zostały one uzyskane\n",
    "- np. wyniki uzyskane przez tę samą grupę osób przed i po przeprowadzeniu eksperymentu ( np. przed i po leczeniu)\n",
    "## Zmienność wewnątrzgrupowa:\n",
    "- ważne jest, aby zwracać uwagę na zmienność wewnątrzgrupową, ponieważ może ona wpłynąć na wyniki testu t dla prób zależnych\n",
    "- test t dla prób zależnych jest mniej wrażliwy na zmienność wewnątrzgrupową niż test t dla prób niezależnych\n",
    "## Test t dla prób zależnych:\n",
    "- można 'wyeliminiować' wariancje wewnątrzgrupowe, ponieważ porównujemy wyniki uzyskane przez tę samą grupę osób, bo zamiast patrzeć na każdy wynik osobno, patrzymy na różnicę między wynikami\n",
    "- test t daje 'lepsze' wyniki dla grup zależnych niż niezależnych"
   ]
  },
  {
   "cell_type": "markdown",
   "id": "d59b3173ceca954d",
   "metadata": {
    "collapsed": false
   },
   "source": [
    "# Ćwiczenie 4"
   ]
  },
  {
   "cell_type": "markdown",
   "id": "ce67e316e87e3487",
   "metadata": {
    "collapsed": false
   },
   "source": [
    "- Grupy te są niezależne od siebie, więc nie da się zastosować testu t dla prób zależnych\n",
    "- Możemy jednak zastosować test t dla prób niezależnych, ale musimy sprawdzić, czy grupy mają rozkłady normalne i zbliżone wariancje\n",
    "\n",
    "## Żeby poprawić dane do testu t dla prób niezależnych:\n",
    "- trzeba dodać dane przed i po, żeby zrobić z nich jedną grupę np. po jakimś szkoleniu itp"
   ]
  },
  {
   "cell_type": "code",
   "execution_count": 5,
   "id": "c11ea955816052e0",
   "metadata": {
    "ExecuteTime": {
     "end_time": "2024-03-21T13:59:11.201194Z",
     "start_time": "2024-03-21T13:59:10.846974Z"
    },
    "collapsed": false
   },
   "outputs": [
    {
     "name": "stdout",
     "output_type": "stream",
     "text": [
      "\n",
      "Sprawdzenie równości wariancji (test Levene'a):\n",
      "- P-wartość: 0.1823, Statystyka testowa: 2.1333\n",
      "- Interpretacja: Nie ma podstaw do odrzucenia H0; wariancje są zbliżone.\n",
      "\n",
      "Wyniki testu Shapiro-Wilka:\n",
      "- Dla kobiet: Statystyka testowa: 0.9806, p-wartość: 0.0000\n",
      "- Interpretacja dla kobiet: Odrzucamy H0; rozkład nie jest normalny.\n",
      "- Dla mężczyzn: Statystyka testowa: 0.9748, p-wartość: 0.0000\n",
      "- Interpretacja dla mężczyzn: Odrzucamy H0; rozkład nie jest normalny.\n",
      "\n",
      "Stopień swobody (df): 1098\n"
     ]
    },
    {
     "data": {
      "image/png": "[encoded data removed]",
      "text/plain": [
       "<Figure size 1200x600 with 2 Axes>"
      ]
     },
     "metadata": {},
     "output_type": "display_data"
    }
   ],
   "source": [
    "data_path = 'data/absolwenci.csv'\n",
    "df = pd.read_csv(data_path, delimiter=';', encoding='ISO-8859-1')\n",
    "\n",
    "salaries_women = df[df['GENDER'] == 'Kobieta']['SALARY']\n",
    "salaries_men = df[df['GENDER'] == 'Mezczyzna']['SALARY']\n",
    "n_women = len(salaries_women)\n",
    "n_men = len(salaries_men)\n",
    "df_4 = n_women + n_men - 2\n",
    "\n",
    "stat_lev_4, p_lev_4 = levene(salaries_women, salaries_men)\n",
    "alpha = 0.05\n",
    "wynik_levene = \"Nie ma podstaw do odrzucenia H0; wariancje są zbliżone.\" if p_lev_4 > alpha else \"Odrzucamy H0; wariancje nie są zbliżone.\"\n",
    "equal_var = p_lev_4 > alpha\n",
    "\n",
    "shapiro_test_women_stat, shapiro_test_women_p_value = shapiro(salaries_women)\n",
    "wynik_shapiro_women = \"Nie ma podstaw do odrzucenia H0 o normalności rozkładu.\" if shapiro_test_women_p_value > alpha \\\n",
    "    else \"Odrzucamy H0; rozkład nie jest normalny.\"\n",
    "\n",
    "shapiro_test_men_stat, shapiro_test_men_p_value = shapiro(salaries_men)\n",
    "wynik_shapiro_men = \"Nie ma podstaw do odrzucenia H0 o normalności rozkładu.\" if shapiro_test_men_p_value > alpha \\\n",
    "    else \"Odrzucamy H0; rozkład nie jest normalny.\"\n",
    "\n",
    "print(f\"\"\"\n",
    "Sprawdzenie równości wariancji (test Levene'a):\n",
    "- P-wartość: {p_lev:.4f}, Statystyka testowa: {stat_lev:.4f}\n",
    "- Interpretacja: {wynik_levene}\n",
    "\n",
    "Wyniki testu Shapiro-Wilka:\n",
    "- Dla kobiet: Statystyka testowa: {shapiro_test_women_stat:.4f}, p-wartość: {shapiro_test_women_p_value:.4f}\n",
    "- Interpretacja dla kobiet: {wynik_shapiro_women}\n",
    "- Dla mężczyzn: Statystyka testowa: {shapiro_test_men_stat:.4f}, p-wartość: {shapiro_test_men_p_value:.4f}\n",
    "- Interpretacja dla mężczyzn: {wynik_shapiro_men}\n",
    "\n",
    "Stopień swobody (df): {df_4}\n",
    "\"\"\")\n",
    "\n",
    "fig = plt.figure(figsize=(12, 6))\n",
    "ax1 = fig.add_subplot(121)\n",
    "sm.qqplot(salaries_women, line='s', ax=ax1)\n",
    "ax1.set_title('Wykres qq dla zarobków kobiet')\n",
    "\n",
    "ax2 = fig.add_subplot(122)\n",
    "sm.qqplot(salaries_men, line='s', ax=ax2)\n",
    "ax2.set_title('Wykres qq dla zarobków mężczyzn')\n",
    "\n",
    "plt.tight_layout()\n",
    "plt.show()"
   ]
  },
  {
   "cell_type": "markdown",
   "id": "a16287bf4e88443b",
   "metadata": {
    "collapsed": false
   },
   "source": [
    "# Test t dla jednej próby:\n",
    "- tutaj tylko ważne, zeby rozkład był zbliżony normalny"
   ]
  },
  {
   "cell_type": "markdown",
   "id": "19039dbd8afd74c0",
   "metadata": {
    "collapsed": false
   },
   "source": [
    "# Ćwiczenie 5"
   ]
  },
  {
   "cell_type": "code",
   "execution_count": 6,
   "id": "16d13525eda6e4d2",
   "metadata": {
    "ExecuteTime": {
     "end_time": "2024-03-21T13:59:11.209589Z",
     "start_time": "2024-03-21T13:59:11.202204Z"
    },
    "collapsed": false
   },
   "outputs": [
    {
     "name": "stdout",
     "output_type": "stream",
     "text": [
      "Test Shapiro-Wilka dla danych 'data13':\n",
      " Statystyka testowa: 0.9321, p-wartość: 0.2116\n",
      " Interpretacja: Dane mają rozkład zbliżony do normalnego. \n",
      "\n",
      "Test t dla jednej próby:\n",
      " Wartość t-statystyki: 0.0000, p-wartość: 1.0000\n",
      " Interpretacja: Nie odrzucamy hipotezy zerowej; brak wystarczających dowodów na statystycznie istotną różnicę między średnim wzrostem, a wartością hipoteyczną.\n"
     ]
    }
   ],
   "source": [
    "data13 = np.array([175.26, 177.8, 167.64000000000001, 160.02, 172.72, 177.8, 175.26, 170.18, 157.48, 160.02, 193.04, 149.86, 157.48, 157.48, 190.5, 157.48, 182.88, 160.02])\n",
    "\n",
    "shapiro_test_data13_stat, shapiro_test_data13_p_value = shapiro(data13)\n",
    "alpha = 0.05\n",
    "interpretacja_shapiro_data13 = (\"Dane mają rozkład zbliżony do normalnego.\" if shapiro_test_data13_p_value > alpha\n",
    "                                else \"Dane nie mają rozkładu zbliżonego do normalnego.\")\n",
    "\n",
    "print(\n",
    "    f\"Test Shapiro-Wilka dla danych 'data13':\\n Statystyka testowa: {shapiro_test_data13_stat:.4f}, p-wartość: {shapiro_test_data13_p_value:.4f}\\n Interpretacja: {interpretacja_shapiro_data13} \\n\")\n",
    "\n",
    "srednia_hipotetyczna_5 = 169.051\n",
    "\n",
    "t_stat, p_value = ttest_1samp(data13, srednia_hipotetyczna_5)\n",
    "\n",
    "interpretacja_testu_t = (\"Odrzucamy hipotezę zerową; istnieje statystycznie istotna różnica między średnim wzrostem a wartością 169.051.\"\n",
    "                         if p_value <= alpha else \"Nie odrzucamy hipotezy zerowej; brak wystarczających dowodów na statystycznie istotną różnicę między średnim wzrostem, a wartością hipoteyczną.\")\n",
    "\n",
    "print(f\"Test t dla jednej próby:\\n Wartość t-statystyki: {t_stat:.4f}, p-wartość: {p_value:.4f}\\n Interpretacja: {interpretacja_testu_t}\")\n",
    "\n"
   ]
  },
  {
   "cell_type": "markdown",
   "id": "a155c04509ad278b",
   "metadata": {
    "collapsed": false
   },
   "source": [
    "# Ćwiczenie 6"
   ]
  },
  {
   "cell_type": "code",
   "execution_count": 7,
   "id": "b0d0fba87146f8e4",
   "metadata": {
    "ExecuteTime": {
     "end_time": "2024-03-21T13:59:11.216533Z",
     "start_time": "2024-03-21T13:59:11.210523Z"
    },
    "collapsed": false
   },
   "outputs": [
    {
     "name": "stdout",
     "output_type": "stream",
     "text": [
      "Test Shapiro-Wilka dla danych 'data17':\n",
      " Statystyka testowa: 0.8786, p-wartość: 0.0369\n",
      " Interpretacja: Dane nie mają rozkładu zbliżonego do normalnego. \n",
      " \n"
     ]
    }
   ],
   "source": [
    "data17 = np.array([172.72, 157.48, 170.18, 172.72, 175.26, 170.18, 154.94, 149.86, 157.48, 154.94, 175.26, 167.64000000000001, 157.48, 157.48, 154.94, 177.8])\n",
    "\n",
    "alpha = 0.05\n",
    "shapiro_test_data17_stat, shapiro_test_data17_p_value = shapiro(data17)\n",
    "interpretacja_shapiro_data17 = (\"Dane mają rozkład zbliżony do normalnego.\" if shapiro_test_data17_p_value > alpha\n",
    "                                else \"Dane nie mają rozkładu zbliżonego do normalnego.\")\n",
    "\n",
    "print(\n",
    "    f\"Test Shapiro-Wilka dla danych 'data17':\\n Statystyka testowa: {shapiro_test_data17_stat:.4f}, p-wartość: {shapiro_test_data17_p_value:.4f}\\n Interpretacja: {interpretacja_shapiro_data17} \\n \")\n",
    "\n",
    "# srednia_hipotetyczna_6 = 164.1475\n",
    "# \n",
    "# t_stat, p_value = ttest_1samp(data17, srednia_hipotetyczna_6)\n",
    "# \n",
    "# interpretacja_testu_t = (\"Odrzucamy hipotezę zerową; istnieje statystycznie istotna różnica między średnim wzrostem a wartością 164.1475.\"\n",
    "#                          if p_value < alpha else \"Nie odrzucamy hipotezy zerowej; brak wystarczających dowodów na statystycznie istotną różnicę między średnim wzrostem, a wartością hipotetyczną.\")\n",
    "# \n",
    "# print(f\"Test t dla jednej próby:\\n Wartość t-statystyki: {t_stat:.4f}, p-wartość: {p_value:.4f}\\n Interpretacja: {interpretacja_testu_t}\")\n"
   ]
  },
  {
   "cell_type": "markdown",
   "id": "98afbd7925874da6",
   "metadata": {
    "collapsed": false
   },
   "source": [
    "# Mann-Whitney U test\n",
    "- używany do porównywania dwóch niezależnych prób, które nie spełniają założeń testu t\n",
    "- nie wymaga on równolicznośći grup, rozkladu normalnego, ani równości wariancji\n",
    "\n",
    "## Założenia:\n",
    "- wszystkie obserwacje są niezależne od siebie\n",
    "- zmienne X i Y są mierzone na skali porządkowej\n",
    "- Hipoteza zerowa o symetrii rozkładu względem prawdopodobieństwa większej wartości jednej ze zmiennych (X > Y) kontra większej wartości drugiej zmiennej (Y > X) sugeruje, że nie ma różnicy między grupami pod względem mediany lub lokalizacji rozkładu. Innymi słowy, zakładamy, że szansa, iż wartość zmiennej X będzie większa od wartości zmiennej Y, jest taka sama, jak szansa, że wartość Y będzie większa od X. W praktyce oznacza to, że oczekujemy, iż obie grupy są \"statystycznie symetryczne\" względem siebie – nie ma przewagi jednej grupy nad drugą pod względem badanej cechy.\n",
    "- Hipoteza alternatywna mówi o istnieniu asymetrii – że prawdopodobieństwa te nie są równe. W wersji dwustronnej testu, hipoteza alternatywna zakłada, że prawdopodobieństwo, iż wartość zmiennej X jest większa niż Y, jest różne od prawdopodobieństwa, że Y > X. To sugeruje, że istnieje statystycznie istotna różnica między grupami pod względem lokalizacji rozkładu (np. mediany). Może to oznaczać, że jedna z grup ma tendencję do osiągania wyższych wartości niż druga. W wersji jednostronnej testu, hipoteza alternatywna jest bardziej konkretne – zakładamy, że jedna grupa ma statystycznie istotnie większe wartości niż druga, w zależności od kierunku testu (czy interesuje nas, że X > Y lub że X < Y).\n",
    "\n",
    "Są to bardzo ogólne założenia i hipotezy, które można dostosować do konkretnego problemu badawczego."
   ]
  },
  {
   "cell_type": "markdown",
   "id": "ba82a9fe4b4a1bcc",
   "metadata": {
    "collapsed": false
   },
   "source": [
    "# Ćwiczenie 7"
   ]
  },
  {
   "cell_type": "code",
   "execution_count": 8,
   "id": "a0fe818896f4e5a9",
   "metadata": {
    "ExecuteTime": {
     "end_time": "2024-03-21T13:59:11.224205Z",
     "start_time": "2024-03-21T13:59:11.217542Z"
    },
    "collapsed": false
   },
   "outputs": [
    {
     "name": "stdout",
     "output_type": "stream",
     "text": [
      "\n",
      "Wynik testu U Manna-Whitneya:\n",
      "- Wartość statystyki U: 2.5\n",
      "- P-wartość: 0.986806161200152\n",
      "- Interpretacja: Nie możemy odrzucić hipotezy zerowej; brak dowodów na to, że osoby nerwowe wykonują więcej gestów niż osoby spokojne.\n"
     ]
    }
   ],
   "source": [
    "nerwowi_7 = [3, 3, 4, 5, 5]\n",
    "spokojni_7 = [4, 6, 7, 9, 9]\n",
    "\n",
    "# hipoteza zerowa: nie ma różnicy w ilości gestów między osobami nerwowym, a spokojnymi\n",
    "# hipoteza alternatywna: osoby nerwowe wykonują więcej gestów niż spokojne\n",
    "\n",
    "u_stat_7, p_value_7 = mannwhitneyu(nerwowi_7, spokojni_7, alternative='greater')\n",
    "\n",
    "alpha = 0.05\n",
    "interpretacja_7 = (\"Możemy odrzucić hipotezę zerową; osoby nerwowe wykonują więcej gestów niż osoby spokojne.\"\n",
    "                   if p_value_7 <= alpha else \"Nie możemy odrzucić hipotezy zerowej; brak dowodów na to, że osoby nerwowe wykonują więcej gestów niż osoby spokojne.\")\n",
    "\n",
    "print(\"\"\"\n",
    "Wynik testu U Manna-Whitneya:\n",
    "- Wartość statystyki U: {}\n",
    "- P-wartość: {}\n",
    "- Interpretacja: {}\n",
    "\"\"\".format(u_stat_7, p_value_7, interpretacja_7))"
   ]
  },
  {
   "cell_type": "markdown",
   "id": "a000feddb2bf735f",
   "metadata": {
    "collapsed": false
   },
   "source": [
    "# Ćwiczenie 8"
   ]
  },
  {
   "cell_type": "code",
   "execution_count": 11,
   "id": "39ec74b27835a1e3",
   "metadata": {
    "collapsed": false,
    "ExecuteTime": {
     "end_time": "2024-03-21T18:26:09.091411Z",
     "start_time": "2024-03-21T18:26:09.081949Z"
    }
   },
   "outputs": [
    {
     "name": "stdout",
     "output_type": "stream",
     "text": [
      "\n",
      "Wynik testu U Manna-Whitneya:\n",
      "- Wartość statystyki U: 186.0\n",
      "- P-wartość: 0.14852918271604412\n",
      "- Interpretacja: Nie możemy odrzucić hipotezy zerowej; brak dowodów na różnicę w wzroście między grupami.\n"
     ]
    }
   ],
   "source": [
    "\n",
    "data13 = [175.26, 177.8, 167.64, 160.02, 172.72, 177.8, 175.26, 170.18, 157.48, 160.02, 193.04, 149.86, 157.48, 157.48, 190.5, 157.48, 182.88, 160.02]\n",
    "data17 = [172.72, 157.48, 170.18, 172.72, 175.26, 170.18, 154.94, 149.86, 157.48, 154.94, 175.26, 167.64, 157.48, 157.48, 154.94, 177.8]\n",
    "\n",
    "u_stat_8, p_value_8 = mannwhitneyu(data13, data17, alternative='two-sided')\n",
    "# hipoteza zerowa: nie ma różnicy w wzroście między grupami\n",
    "# hipoteza alternatywna: istnieje różnica w wzroście między grupami\n",
    "\n",
    "alpha_8 = 0.05\n",
    "\n",
    "interpretacja_8 = (\"Możemy odrzucić hipotezę zerową; istnieje różnica w wzroście między grupami.\"\n",
    "                   if p_value_8 <= alpha_8 else \"Nie możemy odrzucić hipotezy zerowej; brak dowodów na różnicę w wzroście między grupami.\")\n",
    "\n",
    "print(\"\"\"\n",
    "Wynik testu U Manna-Whitneya:\n",
    "- Wartość statystyki U: {}\n",
    "- P-wartość: {}\n",
    "- Interpretacja: {}\n",
    "\"\"\".format(u_stat_8, p_value_8, interpretacja_8))"
   ]
  }
 ],
 "metadata": {
  "kernelspec": {
   "display_name": "Python 3 (ipykernel)",
   "language": "python",
   "name": "python3"
  },
  "language_info": {
   "codemirror_mode": {
    "name": "ipython",
    "version": 3
   },
   "file_extension": ".py",
   "mimetype": "text/x-python",
   "name": "python",
   "nbconvert_exporter": "python",
   "pygments_lexer": "ipython3",
   "version": "3.11.8"
  }
 },
 "nbformat": 4,
 "nbformat_minor": 5
}
