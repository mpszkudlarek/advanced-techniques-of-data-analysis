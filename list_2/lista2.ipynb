{
 "cells": [
  {
   "cell_type": "markdown",
   "source": [
    "# Ćwiczenie 1"
   ],
   "metadata": {
    "collapsed": false
   },
   "id": "e9e6bff54a82ac5c"
  },
  {
   "cell_type": "code",
   "outputs": [],
   "source": [
    "from scipy.stats import ttest_1samp\n",
    "import numpy as np\n",
    "from scipy.stats import chi2\n",
    "import scipy.stats as stats"
   ],
   "metadata": {
    "collapsed": false,
    "ExecuteTime": {
     "end_time": "2024-03-08T11:58:44.216068Z",
     "start_time": "2024-03-08T11:58:44.208519Z"
    }
   },
   "id": "d1761cb920406d07",
   "execution_count": 26
  },
  {
   "cell_type": "code",
   "outputs": [
    {
     "name": "stdout",
     "output_type": "stream",
     "text": [
      "T-statistic: 8.077713247743187\n",
      "P-value = 1.6356364153004743e-12\n",
      "Odrzucamy hipotezę zerową (H0) na rzecz hipotezy alternatywnej(H1).\n"
     ]
    }
   ],
   "source": [
    "population_mean = 28\n",
    "sample_mean = 31.5\n",
    "standard_deviation = 5\n",
    "n = 100\n",
    "alpha = 0.05\n",
    "\n",
    "rng = np.random.default_rng(seed=0)\n",
    "sample = rng.normal(sample_mean, standard_deviation, n)\n",
    "t_statistic, p_value = ttest_1samp(sample, population_mean)\n",
    "\n",
    "# Statystyka t (t_statistic) mierzy, jak daleko średnia próbki jest od średniej populacji, przy uwzględnieniu zmienności w próbce. Duża wartość bezwzględna statystyki t wskazuje, że zaobserwowana różnica między średnią próbki a średnią populacji jest znacząca w stosunku do zmienności w próbce.\n",
    "\n",
    "# P-wartość (p_value) jest miarą siły dowodów przeciwko hipotezie zerowej. Jeśli jest mniejsza niż poziom istotności alfa (0.05), istnieje wystarczający dowód statystyczny, by odrzucić hipotezę zerową na rzecz hipotezy alternatywne. Innymi słowy, jeśli p-wartość jest niska, istnieje mało prawdopodobne, że obserwowane różnice (lub większe) wystąpiły przez przypadek, co sugeruje, że rzeczywista różnica jest statystycznie istotna.\n",
    "\n",
    "\n",
    "print(f'T-statistic: {t_statistic}')\n",
    "print(f'P-value = {p_value}')\n",
    "if p_value < alpha:\n",
    "    print('Odrzucamy hipotezę zerową (H0) na rzecz hipotezy alternatywnej(H1).')\n",
    "\n",
    "else:\n",
    "    print('Nie ma podstaw do odrzucenia hipotezy zerowej(H0) na rzecz alternatywnej(H1).')\n",
    "# czyli wartośc oczekiwana jest różna od 28min"
   ],
   "metadata": {
    "collapsed": true,
    "ExecuteTime": {
     "end_time": "2024-03-08T11:48:08.254857Z",
     "start_time": "2024-03-08T11:48:08.242327Z"
    }
   },
   "id": "initial_id",
   "execution_count": 24
  },
  {
   "cell_type": "markdown",
   "source": [
    "# Ćwiczenie 2"
   ],
   "metadata": {
    "collapsed": false
   },
   "id": "4f4966abc0d170bc"
  },
  {
   "cell_type": "code",
   "outputs": [
    {
     "name": "stdout",
     "output_type": "stream",
     "text": [
      "T-statistic: 1.788854381999831\n",
      "P-value: 0.08807448930807442\n",
      "Nie ma podstaw do odrzucenia hipotezy zerowej(H0).\n"
     ]
    }
   ],
   "source": [
    "sample_data = np.array([1, 1, 1, 2, 2, 2, 2, 3, 3, 3, 4, 4, 4, 4, 4, 5, 5, 6, 6, 6, 7, 7])\n",
    "population_mean = 3\n",
    "alpha = 0.05\n",
    "\n",
    "t_statistic, p_value = ttest_1samp(sample_data, population_mean)\n",
    "\n",
    "#H0 jest rowna 3 dni\n",
    "#H1 \n",
    "print(f'T-statistic: {t_statistic}')\n",
    "print(f'P-value: {p_value}')\n",
    "\n",
    "if p_value < alpha:\n",
    "    print(\"Odrzucamy hipotezę zerową(H0) - zbyt duza roznica poimidzy srednim czasem oczekiwania, a zalozonym czasem 3 dni.\")\n",
    "else:\n",
    "    print(\"Nie ma podstaw do odrzucenia hipotezy zerowej(H0).\")\n",
    "\n",
    "# czyli nie można stwierdzić, że czas oczekiwania jest różny od 3 dni"
   ],
   "metadata": {
    "collapsed": false,
    "ExecuteTime": {
     "end_time": "2024-03-08T11:37:21.381573Z",
     "start_time": "2024-03-08T11:37:21.367038Z"
    }
   },
   "id": "73efa8a71e15b0b4",
   "execution_count": 19
  },
  {
   "cell_type": "markdown",
   "source": [
    "# Ćwiczenie 3\n"
   ],
   "metadata": {
    "collapsed": false
   },
   "id": "28d9c80d345b39c6"
  },
  {
   "cell_type": "code",
   "outputs": [
    {
     "name": "stdout",
     "output_type": "stream",
     "text": [
      "T-statystyka: 0.8523752705579254\n",
      "P-wartość: 0.2012160235914548\n",
      "Nie ma podstaw do odrzucenia hipotezy zerowej\n"
     ]
    }
   ],
   "source": [
    "norm_tech = 6 * 60  # 6 minut w sekundach\n",
    "mean_time = 6 * 60 + 20  # 6 minut i 20 sekund w sekundach\n",
    "std_dev = 1.5 * 60  # 1,5 minut przeliczone na sekundy\n",
    "n = 25  # liczba pracowników\n",
    "alpha = 0.05\n",
    "\n",
    "rng = np.random.default_rng(seed=0)\n",
    "sample = rng.normal(mean_time, std_dev, n)\n",
    "\n",
    "t_statistic, p_value = ttest_1samp(sample, norm_tech, alternative='greater')\n",
    "\n",
    "print(f'T-statystyka: {t_statistic}')\n",
    "print(f'P-wartość: {p_value}')\n",
    "\n",
    "# H0 - średni czas montażu jest równy normie technicznej\n",
    "# H1 - średni czas montażu jest większy niż norma techniczna\n",
    "\n",
    "if p_value < alpha:\n",
    "    print(\"Odrzucamy hipotezę zerową: Średni czas montażu jest znacząco dłuższy niż norma techniczna, co sugeruje, że standardowy czas może być za krótki.\")\n",
    "else:\n",
    "    print(\"Nie ma podstaw do odrzucenia hipotezy zerowej\")\n",
    "\n",
    "# wyniki sa rózne dla róznych seedów "
   ],
   "metadata": {
    "collapsed": false,
    "ExecuteTime": {
     "end_time": "2024-03-08T11:37:21.614687Z",
     "start_time": "2024-03-08T11:37:21.598664Z"
    }
   },
   "id": "cb4cc2724b9ca364",
   "execution_count": 20
  },
  {
   "cell_type": "markdown",
   "source": [
    "# Ćwiczenie 4"
   ],
   "metadata": {
    "collapsed": false
   },
   "id": "5c292a5613fdc7f5"
  },
  {
   "cell_type": "code",
   "outputs": [
    {
     "name": "stdout",
     "output_type": "stream",
     "text": [
      "Wygenerowane odchylenie standardowe próby: 1.31 minuty\n",
      "\n",
      "Wyniki testu chi-kwadrat dla odchylenia standardowego (H0: odchylenie = 1.5 minuty):\n",
      "Statystyka testowa: 18.28\n",
      "P-wartość: 0.4218\n",
      "\n",
      "Wyniki testu chi-kwadrat dla odchylenia standardowego (H1: odchylenie < 1.6 minuty):\n",
      "Statystyka testowa: 16.07\n",
      "P-wartość: 0.1144\n",
      "\n",
      "Test przy poziomie istotności 0.05 dla hipotezy H0:\n",
      "Brak podstaw do odrzucenia hipotezy zerowej (H0), że odchylenie standardowe wynosi 1.5 minuty.\n",
      "\n",
      "Test przy poziomie istotności 0.05 dla hipotezy H1:\n",
      "Brak podstaw do odrzucenia hipotezy H1, że odchylenie standardowe jest mniejsze niż 1.6 minuty.\n",
      "\n",
      "Test przy poziomie istotności 0.1 dla hipotezy H0:\n",
      "Brak podstaw do odrzucenia hipotezy zerowej (H0), że odchylenie standardowe wynosi 1.5 minuty.\n",
      "\n",
      "Test przy poziomie istotności 0.1 dla hipotezy H1:\n",
      "Brak podstaw do odrzucenia hipotezy H1, że odchylenie standardowe jest mniejsze niż 1.6 minuty.\n"
     ]
    }
   ],
   "source": [
    "mean = 6 * 60 + 20  # średnia w sekundach (6 minut i 20 sekund)\n",
    "std = 1.5 * 60  # odchylenie standardowe w sekundach (1.5 minuty)\n",
    "n = 25  # wielkość próby\n",
    "hypothesized_std = 1.6 * 60  # hipotetyczne odchylenie standardowe w sekundach (1.6 minuty)\n",
    "\n",
    "# H0 - odchylenie standardowe wynosi 1.5 minuty\n",
    "# H1 - odchylenie standardowe jest rozne od 1.5 minuty\n",
    "rng = np.random.default_rng(0)\n",
    "sample = rng.normal(mean, std, n)\n",
    "\n",
    "sample_std = np.std(sample, ddof=1)\n",
    "\n",
    "# Test chi-kwadrat dla H0: odchylenie standardowe = 1.5 minuty\n",
    "chi_stat_h0 = (n - 1) * sample_std ** 2 / std ** 2\n",
    "\n",
    "p_value_left = chi2.cdf(chi_stat_h0, df=n - 1)\n",
    "p_value_right = 1 - p_value_left\n",
    "\n",
    "p_value_h0 = 2 * min(p_value_left, p_value_right)\n",
    "\n",
    "chi_stat_h1 = (n - 1) * sample_std ** 2 / hypothesized_std ** 2\n",
    "p_value_h1 = chi2.cdf(chi_stat_h1, df=n - 1)\n",
    "\n",
    "# Wypisanie wyników\n",
    "print(f\"Wygenerowane odchylenie standardowe próby: {sample_std / 60:.2f} minuty\")\n",
    "print(\"\\nWyniki testu chi-kwadrat dla odchylenia standardowego (H0: odchylenie = 1.5 minuty):\")\n",
    "print(f\"Statystyka testowa: {chi_stat_h0:.2f}\")\n",
    "print(f\"P-wartość: {p_value_h0:.4f}\")\n",
    "\n",
    "print(\"\\nWyniki testu chi-kwadrat dla odchylenia standardowego (H1: odchylenie < 1.6 minuty):\")\n",
    "print(f\"Statystyka testowa: {chi_stat_h1:.2f}\")\n",
    "print(f\"P-wartość: {p_value_h1:.4f}\")\n",
    "\n",
    "alphas = [0.05, 0.1]\n",
    "for alpha in alphas:\n",
    "    print(f\"\\nTest przy poziomie istotności {alpha} dla hipotezy H0:\")\n",
    "    if p_value_h0 < alpha:\n",
    "        print(f\"Odrzucamy hipotezę zerową (H0), że odchylenie standardowe wynosi 1.5 minuty.\")\n",
    "    else:\n",
    "        print(f\"Brak podstaw do odrzucenia hipotezy zerowej (H0), że odchylenie standardowe wynosi 1.5 minuty.\")\n",
    "\n",
    "    print(f\"\\nTest przy poziomie istotności {alpha} dla hipotezy H1:\")\n",
    "    if p_value_h1 < alpha:\n",
    "        print(f\"Odrzucamy hipotezę H1, że odchylenie standardowe jest mniejsze niż 1.6 minuty.\")\n",
    "    else:\n",
    "        print(f\"Brak podstaw do odrzucenia hipotezy H1, że odchylenie standardowe jest mniejsze niż 1.6 minuty.\")\n"
   ],
   "metadata": {
    "collapsed": false,
    "ExecuteTime": {
     "end_time": "2024-03-08T11:37:21.856670Z",
     "start_time": "2024-03-08T11:37:21.838311Z"
    }
   },
   "id": "8f100b865ab736f1",
   "execution_count": 21
  },
  {
   "cell_type": "markdown",
   "source": [
    "# Ćwiczenie 5"
   ],
   "metadata": {
    "collapsed": false
   },
   "id": "201ae4fc33c9935f"
  },
  {
   "cell_type": "code",
   "outputs": [
    {
     "name": "stdout",
     "output_type": "stream",
     "text": [
      "T-statystyka: 0.05387936341697528\n",
      "P-wartość: 0.8164453650468817\n",
      "Nie ma podstaw do odrzucenia hipotezy zerowej\n"
     ]
    }
   ],
   "source": [
    "mean_new_product = 27.7\n",
    "std_dev_new_product = 5.5\n",
    "size_new_product = 20\n",
    "\n",
    "mean_known_product = 32.1\n",
    "std_dev_known_product = 6.3\n",
    "size_known_product = 22\n",
    "\n",
    "rng = np.random.default_rng(seed=0)\n",
    "ages_new_product = rng.normal(mean_new_product, std_dev_new_product, size_new_product)\n",
    "ages_known_product = rng.normal(mean_known_product, std_dev_known_product, size_known_product)\n",
    "\n",
    "#H0 - wariancje są równe\n",
    "#H1 - wariancje są różne\n",
    "\n",
    "t_stat, p_value = stats.bartlett(ages_new_product, ages_known_product)\n",
    "\n",
    "print(f'T-statystyka: {t_stat}')\n",
    "print(f'P-wartość: {p_value}')\n",
    "\n",
    "alpha = 0.05\n",
    "if p_value < alpha:\n",
    "    print(\"Odrzucamy hipotezę zerową\")\n",
    "else:\n",
    "    print(\"Nie ma podstaw do odrzucenia hipotezy zerowej\")\n",
    "\n",
    "# czyli mlodsze osoby łatwiej kupuja nowy produkt, a starsze znany produkt\n"
   ],
   "metadata": {
    "collapsed": false,
    "ExecuteTime": {
     "end_time": "2024-03-08T12:14:30.276153Z",
     "start_time": "2024-03-08T12:14:30.263171Z"
    }
   },
   "id": "666cfd9301506994",
   "execution_count": 32
  },
  {
   "cell_type": "code",
   "outputs": [],
   "source": [],
   "metadata": {
    "collapsed": false
   },
   "id": "87c1a0ef4e202c3d"
  }
 ],
 "metadata": {
  "kernelspec": {
   "display_name": "Python 3",
   "language": "python",
   "name": "python3"
  },
  "language_info": {
   "codemirror_mode": {
    "name": "ipython",
    "version": 2
   },
   "file_extension": ".py",
   "mimetype": "text/x-python",
   "name": "python",
   "nbconvert_exporter": "python",
   "pygments_lexer": "ipython2",
   "version": "2.7.6"
  }
 },
 "nbformat": 4,
 "nbformat_minor": 5
}
