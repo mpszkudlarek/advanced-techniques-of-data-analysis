{
 "cells": [
  {
   "cell_type": "code",
   "id": "initial_id",
   "metadata": {
    "collapsed": true,
    "ExecuteTime": {
     "end_time": "2024-05-08T10:33:41.015600Z",
     "start_time": "2024-05-08T10:33:41.012130Z"
    }
   },
   "source": "import pandas as pd",
   "outputs": [],
   "execution_count": 29
  },
  {
   "metadata": {},
   "cell_type": "markdown",
   "source": "# Load the data",
   "id": "4cfb4095147ba3e7"
  },
  {
   "metadata": {
    "ExecuteTime": {
     "end_time": "2024-05-08T10:33:41.044573Z",
     "start_time": "2024-05-08T10:33:41.033651Z"
    }
   },
   "cell_type": "code",
   "source": [
    "data_path = 'input/data_from_kaggle.csv'\n",
    "data = pd.read_csv(data_path)\n",
    "data.head(), data.columns"
   ],
   "id": "a79d4d51752a934f",
   "outputs": [
    {
     "data": {
      "text/plain": [
       "(        Month  C++    C#  TypeScript  PHP  Swift  Ruby  Go  SQL  Kotlin  ...  \\\n",
       " 0  2008-09-01  755  1639           0  474      0   286   0  503       0  ...   \n",
       " 1  2008-11-01  734  1729           0  499      0   157   0  413       0  ...   \n",
       " 2  2008-12-01  630  1594           0  476      0   159   0  424       0  ...   \n",
       " 3  2009-01-01  848  2374           0  628      1   205   0  585       0  ...   \n",
       " 4  2009-02-01  841  2597           0  757      1   286   0  668       0  ...   \n",
       " \n",
       "    Shell    C  HTML  Objective-C  Perl  Matlab  R  Python  Java  Javascript  \n",
       " 0     65  320   328           50   130      11  6     537   634        1129  \n",
       " 1     51  258   327          106    97      11  1     448   580         954  \n",
       " 2     51  188   309          123   133      13  1     437   625         825  \n",
       " 3     47  318   414          143   146      19  8     631   790        1147  \n",
       " 4     75  331   480          209   163      27  8     630   945        1202  \n",
       " \n",
       " [5 rows x 21 columns],\n",
       " Index(['Month', 'C++', 'C#', 'TypeScript', 'PHP', 'Swift', 'Ruby', 'Go', 'SQL',\n",
       "        'Kotlin', 'Scala', 'Shell', 'C', 'HTML', 'Objective-C', 'Perl',\n",
       "        'Matlab', 'R', 'Python', 'Java', 'Javascript'],\n",
       "       dtype='object'))"
      ]
     },
     "execution_count": 30,
     "metadata": {},
     "output_type": "execute_result"
    }
   ],
   "execution_count": 30
  },
  {
   "metadata": {},
   "cell_type": "markdown",
   "source": "# Preprocessing",
   "id": "698436ca32cd17a9"
  },
  {
   "metadata": {
    "ExecuteTime": {
     "end_time": "2024-05-08T10:33:41.075675Z",
     "start_time": "2024-05-08T10:33:41.067136Z"
    }
   },
   "cell_type": "code",
   "source": [
    "print(data.shape)\n",
    "trimmed_data = data[2:].reset_index(drop=True)\n",
    "\n",
    "total_months = trimmed_data.shape[0]\n",
    "period_length_dynamic = total_months // 3\n",
    "print(period_length_dynamic)\n",
    "\n",
    "dynamic_periods = [trimmed_data.iloc[i * period_length_dynamic:(i + 1) * period_length_dynamic] for i in range(3)]\n",
    "\n",
    "dynamic_python_data_periods = [period['Python'].reset_index(drop=True) for period in dynamic_periods]\n",
    "dynamic_python_data_periods[0].head(), dynamic_python_data_periods[1].head(), dynamic_python_data_periods[2].head()"
   ],
   "id": "12c9631db17eb805",
   "outputs": [
    {
     "name": "stdout",
     "output_type": "stream",
     "text": [
      "(185, 21)\n",
      "61\n"
     ]
    },
    {
     "data": {
      "text/plain": [
       "(0    437\n",
       " 1    631\n",
       " 2    630\n",
       " 3    764\n",
       " 4    770\n",
       " Name: Python, dtype: int64,\n",
       " 0     9818\n",
       " 1     9876\n",
       " 2    11397\n",
       " 3    10716\n",
       " 4     9210\n",
       " Name: Python, dtype: int64,\n",
       " 0    17498\n",
       " 1    19863\n",
       " 2    19799\n",
       " 3    18874\n",
       " 4    17190\n",
       " Name: Python, dtype: int64)"
      ]
     },
     "execution_count": 31,
     "metadata": {},
     "output_type": "execute_result"
    }
   ],
   "execution_count": 31
  },
  {
   "metadata": {
    "ExecuteTime": {
     "end_time": "2024-05-08T10:33:41.084654Z",
     "start_time": "2024-05-08T10:33:41.076681Z"
    }
   },
   "cell_type": "code",
   "source": [
    "def extract_data_with_dates(dataframe, period_length):\n",
    "    periods_data = []\n",
    "    date_ranges = []\n",
    "\n",
    "    for i in range(3):\n",
    "        start_idx = i * period_length\n",
    "        end_idx = (i + 1) * period_length\n",
    "\n",
    "        period_data = dataframe.iloc[start_idx:end_idx]\n",
    "\n",
    "        start_date = period_data['Month'].iloc[0]\n",
    "        end_date = period_data['Month'].iloc[-1]\n",
    "\n",
    "        periods_data.append(period_data['Python'].reset_index(drop=True))\n",
    "        date_ranges.append(f\"from {start_date} to {end_date}\")\n",
    "\n",
    "    return periods_data, date_ranges\n",
    "\n",
    "\n",
    "period_data_with_dates, period_date_ranges = extract_data_with_dates(trimmed_data, period_length_dynamic)\n",
    "period_date_ranges"
   ],
   "id": "f24d3da227254cc3",
   "outputs": [
    {
     "data": {
      "text/plain": [
       "['from 2008-12-01 to 2013-12-01',\n",
       " 'from 2014-01-01 to 2019-01-01',\n",
       " 'from 2019-02-01 to 2024-02-01']"
      ]
     },
     "execution_count": 32,
     "metadata": {},
     "output_type": "execute_result"
    }
   ],
   "execution_count": 32
  },
  {
   "metadata": {
    "ExecuteTime": {
     "end_time": "2024-05-08T10:33:41.092363Z",
     "start_time": "2024-05-08T10:33:41.086665Z"
    }
   },
   "cell_type": "code",
   "source": [
    "combined_python_data = pd.concat(dynamic_python_data_periods, axis=1)\n",
    "combined_python_data.columns = ['Period 1', 'Period 2', 'Period 3']\n",
    "\n",
    "output_path = 'output/data_after_pre_processing.csv'\n",
    "combined_python_data.to_csv(output_path, index=False)\n",
    "print('Data saved to', output_path)"
   ],
   "id": "f9f9ff66a6b7421e",
   "outputs": [
    {
     "name": "stdout",
     "output_type": "stream",
     "text": [
      "Data saved to output/data_after_pre_processing.csv\n"
     ]
    }
   ],
   "execution_count": 33
  },
  {
   "metadata": {},
   "cell_type": "markdown",
   "source": [
    "# Ćwiczenie 2\n",
    "Określ parametry rozkładu poszczególnych populacji: średnia, odchylenie standardowe, minimum, maksimum, mediana, pierwszy kwartyl i trzeci kwartyl"
   ],
   "id": "99c0834fa5068861"
  },
  {
   "metadata": {
    "ExecuteTime": {
     "end_time": "2024-05-08T10:33:41.112644Z",
     "start_time": "2024-05-08T10:33:41.098877Z"
    }
   },
   "cell_type": "code",
   "source": [
    "def calculate_descriptive_stats(input_data):\n",
    "    stats = {\n",
    "        'mean': input_data.mean(),\n",
    "        'std_dev': input_data.std(),\n",
    "        'min': input_data.min(),\n",
    "        'max': input_data.max(),\n",
    "        'median': input_data.median(),\n",
    "        'first_quartile': input_data.quantile(0.25),\n",
    "        'third_quartile': input_data.quantile(0.75)\n",
    "    }\n",
    "    return stats\n",
    "\n",
    "\n",
    "descriptive_stats_periods = [calculate_descriptive_stats(period) for period in dynamic_python_data_periods]\n",
    "\n",
    "stats_df = pd.DataFrame(descriptive_stats_periods, index=['Period 1', 'Period 2', 'Period 3'])\n",
    "stats_df"
   ],
   "id": "4ca5b895f9cf67cb",
   "outputs": [
    {
     "data": {
      "text/plain": [
       "                  mean      std_dev   min    max   median  first_quartile  \\\n",
       "Period 1   3969.721311  2535.168062   437   9464   3510.0          1946.0   \n",
       "Period 2  13504.639344  2910.959264  8754  18123  13089.0         11214.0   \n",
       "Period 3  18327.934426  5025.331873  7028  29378  19399.0         16846.0   \n",
       "\n",
       "          third_quartile  \n",
       "Period 1          5741.0  \n",
       "Period 2         16212.0  \n",
       "Period 3         20843.0  "
      ],
      "text/html": [
       "<div>\n",
       "<style scoped>\n",
       "    .dataframe tbody tr th:only-of-type {\n",
       "        vertical-align: middle;\n",
       "    }\n",
       "\n",
       "    .dataframe tbody tr th {\n",
       "        vertical-align: top;\n",
       "    }\n",
       "\n",
       "    .dataframe thead th {\n",
       "        text-align: right;\n",
       "    }\n",
       "</style>\n",
       "<table border=\"1\" class=\"dataframe\">\n",
       "  <thead>\n",
       "    <tr style=\"text-align: right;\">\n",
       "      <th></th>\n",
       "      <th>mean</th>\n",
       "      <th>std_dev</th>\n",
       "      <th>min</th>\n",
       "      <th>max</th>\n",
       "      <th>median</th>\n",
       "      <th>first_quartile</th>\n",
       "      <th>third_quartile</th>\n",
       "    </tr>\n",
       "  </thead>\n",
       "  <tbody>\n",
       "    <tr>\n",
       "      <th>Period 1</th>\n",
       "      <td>3969.721311</td>\n",
       "      <td>2535.168062</td>\n",
       "      <td>437</td>\n",
       "      <td>9464</td>\n",
       "      <td>3510.0</td>\n",
       "      <td>1946.0</td>\n",
       "      <td>5741.0</td>\n",
       "    </tr>\n",
       "    <tr>\n",
       "      <th>Period 2</th>\n",
       "      <td>13504.639344</td>\n",
       "      <td>2910.959264</td>\n",
       "      <td>8754</td>\n",
       "      <td>18123</td>\n",
       "      <td>13089.0</td>\n",
       "      <td>11214.0</td>\n",
       "      <td>16212.0</td>\n",
       "    </tr>\n",
       "    <tr>\n",
       "      <th>Period 3</th>\n",
       "      <td>18327.934426</td>\n",
       "      <td>5025.331873</td>\n",
       "      <td>7028</td>\n",
       "      <td>29378</td>\n",
       "      <td>19399.0</td>\n",
       "      <td>16846.0</td>\n",
       "      <td>20843.0</td>\n",
       "    </tr>\n",
       "  </tbody>\n",
       "</table>\n",
       "</div>"
      ]
     },
     "execution_count": 34,
     "metadata": {},
     "output_type": "execute_result"
    }
   ],
   "execution_count": 34
  },
  {
   "metadata": {
    "ExecuteTime": {
     "end_time": "2024-05-08T10:33:41.175972Z",
     "start_time": "2024-05-08T10:33:41.170799Z"
    }
   },
   "cell_type": "code",
   "source": "print(combined_python_data)",
   "id": "3b69655bb364ccb9",
   "outputs": [
    {
     "name": "stdout",
     "output_type": "stream",
     "text": [
      "    Period 1  Period 2  Period 3\n",
      "0        437      9818     17498\n",
      "1        631      9876     19863\n",
      "2        630     11397     19799\n",
      "3        764     10716     18874\n",
      "4        770      9210     17190\n",
      "..       ...       ...       ...\n",
      "56      7933     16001      9031\n",
      "57      7947     18123      8482\n",
      "58      9462     17988      7028\n",
      "59      9464     15704      8024\n",
      "60      8432     16920      7793\n",
      "\n",
      "[61 rows x 3 columns]\n"
     ]
    }
   ],
   "execution_count": 35
  },
  {
   "metadata": {},
   "cell_type": "markdown",
   "source": [
    "# Ćwiczenie 3\n",
    "Sprawdź równość badanej  cechy  we  wszystkich  populacjach  odpowiednim  testem. Pamiętaj o sprawdzeniu czy zmienne są powiązane, równości wariancji, rozkładu badanej cechy. Jeśli jest potrzeba wykonaj odpowiednią analizępost-hoc."
   ],
   "id": "a3613a514a532667"
  },
  {
   "metadata": {
    "ExecuteTime": {
     "end_time": "2024-05-08T10:33:41.200262Z",
     "start_time": "2024-05-08T10:33:41.191014Z"
    }
   },
   "cell_type": "code",
   "source": [
    "from scipy.stats import shapiro, levene\n",
    "\n",
    "levene_test = levene(combined_python_data['Period 1'], combined_python_data['Period 2'], combined_python_data['Period 3'])\n",
    "\n",
    "shapiro_test1 = shapiro(combined_python_data['Period 1'])\n",
    "shapiro_test2 = shapiro(combined_python_data['Period 2'])\n",
    "shapiro_test3 = shapiro(combined_python_data['Period 3'])\n",
    "\n",
    "alpha = 0.05\n",
    "\n",
    "results = \"\"\n",
    "results += \"Test Levene'a na równość wariancji:\\n\"\n",
    "results += f\"Wartość statystyczna: {levene_test.statistic:.3f}, p-wartość: {levene_test.pvalue:.3f}\\n\"\n",
    "results += \"Interpretacja: \"\n",
    "results += \"Nie ma wystarczających dowodów na różnice w wariancjach\" if levene_test.pvalue > alpha else \"Istnieją statystycznie istotne różnice w wariancjach\"\n",
    "results += \"\\n\\n\"\n",
    "\n",
    "results += \"Testy Shapiro-Wilka na normalność rozkładu:\\n\"\n",
    "results += f\"Okres 1: Statystyka = {shapiro_test1[0]:.3f}, p-wartość = {shapiro_test1[1]:.3f} - \"\n",
    "results += \"rozkład jest normalny\" if shapiro_test1[1] > alpha else \"rozkład nie jest normalny\"\n",
    "results += \"\\n\"\n",
    "results += f\"Okres 2: Statystyka = {shapiro_test2[0]:.3f}, p-wartość = {shapiro_test2[1]:.3f} - \"\n",
    "results += \"rozkład jest normalny\" if shapiro_test2[1] > alpha else \"rozkład nie jest normalny\"\n",
    "results += \"\\n\"\n",
    "results += f\"Okres 3: Statystyka = {shapiro_test3[0]:.3f}, p-wartość = {shapiro_test3[1]:.3f} - \"\n",
    "results += \"rozkład jest normalny\" if shapiro_test3[1] > alpha else \"rozkład nie jest normalny\"\n",
    "\n",
    "print(results)\n",
    "print('\\nDane są niezależne od siebie, ponieważ dotyczą różnych okresów czasowych')"
   ],
   "id": "410b01fcdf7f1032",
   "outputs": [
    {
     "name": "stdout",
     "output_type": "stream",
     "text": [
      "Test Levene'a na równość wariancji:\n",
      "Wartość statystyczna: 6.226, p-wartość: 0.002\n",
      "Interpretacja: Istnieją statystycznie istotne różnice w wariancjach\n",
      "\n",
      "Testy Shapiro-Wilka na normalność rozkładu:\n",
      "Okres 1: Statystyka = 0.934, p-wartość = 0.003 - rozkład nie jest normalny\n",
      "Okres 2: Statystyka = 0.937, p-wartość = 0.004 - rozkład nie jest normalny\n",
      "Okres 3: Statystyka = 0.930, p-wartość = 0.002 - rozkład nie jest normalny\n",
      "\n",
      "Dane są niezależne od siebie, ponieważ dotyczą różnych okresów czasowych\n"
     ]
    }
   ],
   "execution_count": 36
  },
  {
   "metadata": {
    "ExecuteTime": {
     "end_time": "2024-05-08T10:33:41.705417Z",
     "start_time": "2024-05-08T10:33:41.203270Z"
    }
   },
   "cell_type": "code",
   "source": [
    "import matplotlib.pyplot as plt\n",
    "import scipy.stats as stats\n",
    "\n",
    "\n",
    "def qqplot(data_list, titles):\n",
    "    fig, axs = plt.subplots(1, 3, figsize=(18, 6))  # Setting up a 1x3 subplot\n",
    "    for data, title, ax in zip(data_list, titles, axs):\n",
    "        stats.probplot(data, dist=\"norm\", plot=ax)\n",
    "        ax.set_title(f'Q-Q Plot for {title}')\n",
    "    plt.tight_layout()\n",
    "    plt.show()\n",
    "\n",
    "\n",
    "data_list = [combined_python_data['Period 1'], combined_python_data['Period 2'], combined_python_data['Period 3']]\n",
    "titles = ['Period 1', 'Period 2', 'Period 3']\n",
    "\n",
    "qqplot(data_list, titles)\n",
    "\n",
    "fig, ax = plt.subplots()\n",
    "ax.boxplot([combined_python_data['Period 1'], combined_python_data['Period 2'], combined_python_data['Period 3']],\n",
    "           labels=['Period 1', 'Period 2', 'Period 3'])\n",
    "ax.set_title('Boxplot of Queries in Different Periods')\n",
    "ax.set_ylabel('Number of Queries')\n",
    "plt.show()"
   ],
   "id": "8432aac97959d1ef",
   "outputs": [
    {
     "data": {
      "text/plain": [
       "<Figure size 1800x600 with 3 Axes>"
      ],
      "image/png": "[encoded data removed]"
     },
     "metadata": {},
     "output_type": "display_data"
    },
    {
     "data": {
      "text/plain": [
       "<Figure size 640x480 with 1 Axes>"
      ],
      "image/png": "[encoded data removed]"
     },
     "metadata": {},
     "output_type": "display_data"
    }
   ],
   "execution_count": 37
  },
  {
   "metadata": {},
   "cell_type": "markdown",
   "source": [
    "Q-Q Plots\n",
    "Na wykresach (Q-Q) dla każdego z okresów widać, że punkty danych znacząco odbiegają od prostej, co jest charakterystyczne dla rozkładów niebędących normalnymi. To potwierdza wyniki testu Shapiro-Wilka, które wskazywały na brak normalności rozkładu w każdym z okresów.\n",
    "\n",
    "Boxploty\n",
    "Boxploty prezentują rozkład ilości zapytań w poszczególnych okresach. Zauważalne są różnice w medianach oraz obecność wartości odstających, szczególnie w pierwszym okresie. Wartości te mogą wpływać na wyniki testów statystycznych i sugerują zróżnicowanie ilości zapytań między poszczególnymi okresami. Dodatkowo okres trzeci ma dużo outlinerów"
   ],
   "id": "aa7c6d0ec810b87b"
  },
  {
   "metadata": {
    "ExecuteTime": {
     "end_time": "2024-05-08T10:33:41.713016Z",
     "start_time": "2024-05-08T10:33:41.706424Z"
    }
   },
   "cell_type": "code",
   "source": [
    "from scipy.stats import kruskal\n",
    "\n",
    "kruskal_test = kruskal(combined_python_data['Period 1'], combined_python_data['Period 2'], combined_python_data['Period 3'])\n",
    "\n",
    "# Results string to summarize the Kruskal-Wallis test\n",
    "kruskal_results = \"Test Kruskala-Wallisa na równość median:\\n\"\n",
    "kruskal_results += f\"Wartość statystyczna: {kruskal_test.statistic:.3f}, p-wartość: {kruskal_test.pvalue:.3f}\\n\"\n",
    "kruskal_results += \"Interpretacja: \"\n",
    "kruskal_results += \"Nie ma wystarczających dowodów na różnice w medianach\" if kruskal_test.pvalue > alpha else \"Istnieją statystycznie istotne różnice w medianach\"\n",
    "\n",
    "print(kruskal_results)"
   ],
   "id": "201d53303366de30",
   "outputs": [
    {
     "name": "stdout",
     "output_type": "stream",
     "text": [
      "Test Kruskala-Wallisa na równość median:\n",
      "Wartość statystyczna: 134.203, p-wartość: 0.000\n",
      "Interpretacja: Istnieją statystycznie istotne różnice w medianach\n"
     ]
    }
   ],
   "execution_count": 38
  },
  {
   "metadata": {
    "ExecuteTime": {
     "end_time": "2024-05-08T10:33:41.722539Z",
     "start_time": "2024-05-08T10:33:41.714029Z"
    }
   },
   "cell_type": "code",
   "source": [
    "from scipy.stats import mannwhitneyu\n",
    "\n",
    "\n",
    "def mann_whitney_test(data1, data2, label1, label2):\n",
    "    stat, p = mannwhitneyu(data1, data2, alternative='two-sided')\n",
    "    result = f\"Test Manna-Whitneya pomiędzy {label1} a {label2}:\\n\"\n",
    "    result += f\"Statystyka U = {stat}, P-wartość = {p}\\n\"\n",
    "    result += \"Interpretacja: \"\n",
    "    result += \"Brak statystycznie istotnych różnic\" if p > alpha else \"Statystycznie istotne różnice\"\n",
    "    return result\n",
    "\n",
    "\n",
    "period1_data = combined_python_data['Period 1']\n",
    "period2_data = combined_python_data['Period 2']\n",
    "period3_data = combined_python_data['Period 3']\n",
    "\n",
    "results_p1_p2 = mann_whitney_test(period1_data, period2_data, \"Okres 1\", \"Okres 2\")\n",
    "results_p1_p3 = mann_whitney_test(period1_data, period3_data, \"Okres 1\", \"Okres 3\")\n",
    "results_p2_p3 = mann_whitney_test(period2_data, period3_data, \"Okres 2\", \"Okres 3\")\n",
    "\n",
    "print(results_p1_p2)\n",
    "print(results_p1_p3)\n",
    "print(results_p2_p3)"
   ],
   "id": "f9c48fa47041d72c",
   "outputs": [
    {
     "name": "stdout",
     "output_type": "stream",
     "text": [
      "Test Manna-Whitneya pomiędzy Okres 1 a Okres 2:\n",
      "Statystyka U = 10.0, P-wartość = 2.7235034407605115e-21\n",
      "Interpretacja: Statystycznie istotne różnice\n",
      "Test Manna-Whitneya pomiędzy Okres 1 a Okres 3:\n",
      "Statystyka U = 28.0, P-wartość = 6.555692432845869e-21\n",
      "Interpretacja: Statystycznie istotne różnice\n",
      "Test Manna-Whitneya pomiędzy Okres 2 a Okres 3:\n",
      "Statystyka U = 706.0, P-wartość = 3.4418924958178277e-09\n",
      "Interpretacja: Statystycznie istotne różnice\n"
     ]
    }
   ],
   "execution_count": 39
  },
  {
   "metadata": {
    "ExecuteTime": {
     "end_time": "2024-05-08T10:33:41.730487Z",
     "start_time": "2024-05-08T10:33:41.723547Z"
    }
   },
   "cell_type": "code",
   "source": [
    "data_after_pre_processing = pd.read_csv('output/data_after_pre_processing.csv')\n",
    "data_summary = {\n",
    "    'mean': data_after_pre_processing.mean().to_string(),  # Średnie dla każdej kolumny\n",
    "    'median': data_after_pre_processing.median().to_string()  # Mediany dla każdej kolumny\n",
    "}\n",
    "\n",
    "results_mm = \"Średnie wartości dla każdej kolumny:\\n\"\n",
    "results_mm += data_summary['mean']\n",
    "results_mm += \"\\n\\nMediany dla każdej kolumny:\\n\"\n",
    "results_mm += data_summary['median']\n",
    "\n",
    "print(results_mm)"
   ],
   "id": "8bb535e2d4aaa84f",
   "outputs": [
    {
     "name": "stdout",
     "output_type": "stream",
     "text": [
      "Średnie wartości dla każdej kolumny:\n",
      "Period 1     3969.721311\n",
      "Period 2    13504.639344\n",
      "Period 3    18327.934426\n",
      "\n",
      "Mediany dla każdej kolumny:\n",
      "Period 1     3510.0\n",
      "Period 2    13089.0\n",
      "Period 3    19399.0\n"
     ]
    }
   ],
   "execution_count": 40
  },
  {
   "metadata": {
    "ExecuteTime": {
     "end_time": "2024-05-08T10:33:41.745822Z",
     "start_time": "2024-05-08T10:33:41.732498Z"
    }
   },
   "cell_type": "code",
   "source": [
    "from scipy.stats import wilcoxon\n",
    "\n",
    "mean_plus_10_percent = data_after_pre_processing.mean() * 1.10\n",
    "median_plus_10_percent = data_after_pre_processing.median() * 1.10\n",
    "\n",
    "\n",
    "def perform_one_sided_wilcoxon_test(data, threshold):\n",
    "    result = wilcoxon(data - threshold, alternative='less')  # 'less' dla testowania czy dane < threshold\n",
    "    stat_w, p_value_w = result.statistic, result.pvalue\n",
    "    return stat_w, p_value_w\n",
    "\n",
    "\n",
    "wilcoxon_test_results_median = {col: perform_one_sided_wilcoxon_test(data_after_pre_processing[col], median_plus_10_percent[col]) for col in data_after_pre_processing.columns}\n",
    "wilcoxon_test_results_mean = {col: perform_one_sided_wilcoxon_test(data_after_pre_processing[col], mean_plus_10_percent[col]) for col in data_after_pre_processing.columns}\n",
    "\n",
    "results = \"\"\n",
    "results += \"Testy Wilcoxona dla średnich:\\n\"\n",
    "for period, (stat, p_value) in wilcoxon_test_results_mean.items():\n",
    "    results += f\"{period}: Statystyka = {stat:.3f}, p-wartość = {p_value:.5f} - \"\n",
    "    results += \"średnia jest mniejsza niż średnia +10%\" if p_value < alpha else \"brak wystarczających dowodów na mniejszą średnią niż średnia +10%\"\n",
    "    results += \"\\n\"\n",
    "\n",
    "results += \"\\nTesty Wilcoxona dla median:\\n\"\n",
    "for period, (stat, p_value) in wilcoxon_test_results_median.items():\n",
    "    results += f\"{period}: Statystyka = {stat:.3f}, p-wartość = {p_value:.5f} - \"\n",
    "    results += \"mediana jest mniejsza niż mediana +10%\" if p_value < alpha else \"brak wystarczających dowodów na mniejszą medianę niż mediana +10%\"\n",
    "    results += \"\\n\"\n",
    "\n",
    "print(results)\n"
   ],
   "id": "921f33df2c251dd6",
   "outputs": [
    {
     "name": "stdout",
     "output_type": "stream",
     "text": [
      "Testy Wilcoxona dla średnich:\n",
      "Period 1: Statystyka = 757.000, p-wartość = 0.08788 - brak wystarczających dowodów na mniejszą średnią niż średnia +10%\n",
      "Period 2: Statystyka = 500.000, p-wartość = 0.00069 - średnia jest mniejsza niż średnia +10%\n",
      "Period 3: Statystyka = 603.000, p-wartość = 0.00694 - średnia jest mniejsza niż średnia +10%\n",
      "\n",
      "Testy Wilcoxona dla median:\n",
      "Period 1: Statystyka = 930.000, p-wartość = 0.45568 - brak wystarczających dowodów na mniejszą medianę niż mediana +10%\n",
      "Period 2: Statystyka = 644.000, p-wartość = 0.01517 - mediana jest mniejsza niż mediana +10%\n",
      "Period 3: Statystyka = 322.000, p-wartość = 0.00000 - mediana jest mniejsza niż mediana +10%\n",
      "\n"
     ]
    }
   ],
   "execution_count": 41
  },
  {
   "metadata": {
    "ExecuteTime": {
     "end_time": "2024-05-08T10:37:02.721668Z",
     "start_time": "2024-05-08T10:37:00.795351Z"
    }
   },
   "cell_type": "code",
   "source": [
    "import numpy as np\n",
    "from sklearn.utils import resample\n",
    "\n",
    "# Przygotowanie danych z poprzednio wczytanego DataFrame\n",
    "data_alpha = data_after_pre_processing\n",
    "\n",
    "\n",
    "def bootstrap_confidence_interval(data, n_iterations=1000, ci=95):\n",
    "    boot_means = []\n",
    "    boot_vars = []\n",
    "    for _ in range(n_iterations):\n",
    "        boot_sample = resample(data)\n",
    "        boot_means.append(np.mean(boot_sample))\n",
    "        boot_vars.append(np.var(boot_sample, ddof=1))\n",
    "\n",
    "    alpha = 100 - ci\n",
    "    lower_mean = np.percentile(boot_means, alpha/2)\n",
    "    upper_mean = np.percentile(boot_means, 100-alpha/2)\n",
    "    lower_var = np.percentile(boot_vars, alpha/2)\n",
    "    upper_var = np.percentile(boot_vars, 100-alpha/2)\n",
    "\n",
    "    return (lower_mean, upper_mean), (lower_var, upper_var)\n",
    "ci_results = {}\n",
    "for column in data_alpha.columns:\n",
    "    ci_95_mean, ci_95_var = bootstrap_confidence_interval(data_alpha[column], ci=95)\n",
    "    ci_99_mean, ci_99_var = bootstrap_confidence_interval(data_alpha[column], ci=99)\n",
    "    ci_results[column] = {\n",
    "        '95% CI Mean': ci_95_mean,\n",
    "        '95% CI Variance': ci_95_var,\n",
    "        '99% CI Mean': ci_99_mean,\n",
    "        '99% CI Variance': ci_99_var\n",
    "    }\n",
    "\n",
    "ci_results_output = \"\"\n",
    "for period, intervals in ci_results.items():\n",
    "    ci_results_output += f\"{period}:\\n\"\n",
    "    ci_results_output += f\"  95% przedział ufności dla średniej: {intervals['95% CI Mean'][0]:.4f} do {intervals['95% CI Mean'][1]:.4f}\\n\"\n",
    "    ci_results_output += f\"  95% przedział ufności dla wariancji: {intervals['95% CI Variance'][0]:.4f} do {intervals['95% CI Variance'][1]:.4f}\\n\"\n",
    "    ci_results_output += f\"  99% przedział ufności dla średniej: {intervals['99% CI Mean'][0]:.4f} do {intervals['99% CI Mean'][1]:.4f}\\n\"\n",
    "    ci_results_output += f\"  99% przedział ufności dla wariancji: {intervals['99% CI Variance'][0]:.4f} do {intervals['99% CI Variance'][1]:.4f}\\n\"\n",
    "    ci_results_output += \"\\n\"\n",
    "\n",
    "print(ci_results_output)"
   ],
   "id": "97504af6e39c7d43",
   "outputs": [
    {
     "name": "stdout",
     "output_type": "stream",
     "text": [
      "Period 1:\n",
      "  95% przedział ufności dla średniej: 3394.5328 do 4612.9299\n",
      "  95% przedział ufności dla wariancji: 4643434.2031 do 8126022.9028\n",
      "  99% przedział ufności dla średniej: 3169.9778 do 4810.8032\n",
      "  99% przedział ufności dla wariancji: 4153811.5585 do 8782683.0132\n",
      "\n",
      "Period 2:\n",
      "  95% przedział ufności dla średniej: 12822.6783 do 14213.8344\n",
      "  95% przedział ufności dla wariancji: 6540012.4552 do 10169224.1626\n",
      "  99% przedział ufności dla średniej: 12621.7011 do 14452.9939\n",
      "  99% przedział ufności dla wariancji: 5970928.6138 do 10635483.4147\n",
      "\n",
      "Period 3:\n",
      "  95% przedział ufności dla średniej: 17011.7459 do 19550.1439\n",
      "  95% przedział ufności dla wariancji: 15935492.2064 do 33861917.2600\n",
      "  99% przedział ufności dla średniej: 16514.0929 do 19842.4713\n",
      "  99% przedział ufności dla wariancji: 13873220.6344 do 36869598.7100\n",
      "\n",
      "\n"
     ]
    }
   ],
   "execution_count": 54
  },
  {
   "metadata": {
    "ExecuteTime": {
     "end_time": "2024-05-08T10:33:41.759375Z",
     "start_time": "2024-05-08T10:33:41.756865Z"
    }
   },
   "cell_type": "code",
   "source": "",
   "id": "39427261190cd5de",
   "outputs": [],
   "execution_count": 42
  }
 ],
 "metadata": {
  "kernelspec": {
   "display_name": "Python 3",
   "language": "python",
   "name": "python3"
  },
  "language_info": {
   "codemirror_mode": {
    "name": "ipython",
    "version": 2
   },
   "file_extension": ".py",
   "mimetype": "text/x-python",
   "name": "python",
   "nbconvert_exporter": "python",
   "pygments_lexer": "ipython2",
   "version": "2.7.6"
  }
 },
 "nbformat": 4,
 "nbformat_minor": 5
}
